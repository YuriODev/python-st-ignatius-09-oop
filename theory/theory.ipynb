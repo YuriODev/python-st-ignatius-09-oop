{
    "cells": [
        {
            "cell_type": "markdown",
            "metadata": {},
            "source": [
                "# 1. Introduction to Simple Data Types 📘\n",
                "\n",
                "Welcome to the foundational module on Simple Data Types in Python. This module explores the core building blocks of Python programming that are fundamental to almost every program you write.\n",
                "\n",
                "## What's Covered in This Module 📋\n",
                "\n",
                "- **Objects and Variables** 🆔: Understanding how Python uses objects and variables to store and manage data.\n",
                "- **Numbers** 🔢:\n",
                "  - **Integers**: Whole numbers and their operations.\n",
                "  - **Floating-Point Numbers**: Numbers with decimal points and their precision.\n",
                "  - **Type Conversion**: Techniques for converting between different numeric types.\n",
                "  - **Mathematical Functions**: Exploring Python's built-in mathematical capabilities.\n",
                "- **Strings** 📝:\n",
                "  - **Creating Strings**: Methods for creating and manipulating string data.\n",
                "  - **Printing Strings**: How to display strings to the user.\n",
                "  - **String Operations**: Overview of common operations for string manipulation.\n",
                "  - **Formatting Strings**: Advanced techniques for string formatting to produce cleaner code.\n",
                "- **Booleans** 🚥: \n",
                "  - **Boolean Values**: Understanding the two boolean values `True` and `False`.\n",
                "  - **Boolean Operators**: Using operators like `and`, `or`, and `not` to perform logical operations.\n",
                "- **Input from Keyboard** 🎹: \n",
                "  - **Input Function**: \n",
                "    - Using the `input` function to capture user input.\n",
                "- **Extra tricks** 📝: \n",
                "  - **Comments**: Writing comments to document your code.\n",
                "  - **Whitespace**: Understanding how Python uses whitespace to structure code.\n",
                "  - **Style Guide**: Introduction to the Python style guide for writing clean and readable code.\n",
                "  - **Compound operators**: Using compound operators to perform operations in a more concise way.\n",
                "  - **Double assignment**: Using double assignment to swap values between variables.\n",
                "  - **Prints**: Using the `print` function to display output to the user.\n",
                "\n",
                "This module is designed to provide you with the necessary tools to start solving problems with Python effectively."
            ]
        },
        {
            "cell_type": "markdown",
            "metadata": {},
            "source": [
                "# 2. Objects and Variables 🔄\n",
                "\n",
                "In Python, **everything is an object**. This fundamental concept underpins how Python manages data. When you create a variable, you are essentially creating a reference to an object in memory. Variables allow you to store, retrieve, and manipulate data throughout your program. Understanding objects and variables is crucial for effective Python programming.\n"
            ]
        },
        {
            "cell_type": "markdown",
            "metadata": {},
            "source": [
                "## Key Concepts to Explore in This Module:\n",
                "\n",
                "- **Variable Assignment**: How to assign values to variables and how Python manages these assignments.\n",
                "- **Mutable vs Immutable Objects**: The distinction between objects that can be changed in place and those that cannot.\n",
                "- **Variable Reassignment and Identity**: What happens when you reassign a variable and how to check the identity of the object a variable refers to.\n",
                "- **Dynamic Typing**: Python's flexibility in allowing variables to refer to objects of different types over their lifetime.\n",
                "\n",
                "This section will introduce these concepts through explanations and practical examples, laying the groundwork for more advanced programming techniques."
            ]
        },
        {
            "cell_type": "code",
            "execution_count": 1,
            "metadata": {},
            "outputs": [
                {
                    "name": "stdout",
                    "output_type": "stream",
                    "text": [
                        "x: 10\n",
                        "y: 10\n",
                        "Are x and y referring to the same object? True\n"
                    ]
                }
            ],
            "source": [
                "# Example of variable assignment and object identity\n",
                "x = 10\n",
                "y = x\n",
                "\n",
                "print(\"x:\", x)\n",
                "print(\"y:\", y)\n",
                "print(\"Are x and y referring to the same object?\", x is y)"
            ]
        },
        {
            "cell_type": "markdown",
            "metadata": {},
            "source": [
                "# 3. Numbers 🔢\n",
                "\n",
                "Python provides various types of numbers for mathematical calculations. Two of the most common numeric types are:\n",
                "\n",
                "- **Integers (int)**: Whole numbers that can be positive, negative, or zero.\n",
                "- **Floating-Point Numbers (float)**: Numbers with a decimal point, used to represent fractional parts.\n",
                "\n",
                "This module will guide you through the usage, operations, and nuances of working with these numeric types in Python.\n"
            ]
        },
        {
            "cell_type": "markdown",
            "metadata": {},
            "source": [
                "## Integers\n",
                "\n",
                "Integers are the most basic numeric type in Python, used for counting and calculations. Here, we'll explore basic arithmetic operations, type conversion, and some built-in functions relevant to integers.\n",
                "\n",
                "### Arithmetic Operations with Integers\n",
                "\n",
                "Integers in Python can be used in various arithmetic operations. Here are some common arithmetic operations that can be performed with integers:\n",
                "\n",
                "- **Addition**: The `+` operator is used to add two integers together. For example, `2 + 3` would result in `5`.\n",
                "\n",
                "- **Subtraction**: The `-` operator is used to subtract one integer from another. For example, `5 - 2` would result in `3`.\n",
                "\n",
                "- **Multiplication**: The `*` operator is used to multiply two integers together. For example, `2 * 3` would result in `6`.\n",
                "\n",
                "- **Division**: The `/` operator is used to divide one integer by another. For example, `6 / 2` would result in `3.0`. Note that the result of division is always a floating-point number.\n",
                "\n",
                "- **Floor Division**: The `//` operator is used to perform floor division, which returns the largest integer less than or equal to the division result. For example, `7 // 2` would result in `3`.\n",
                "\n",
                "- **Modulo**: The `%` operator is used to calculate the remainder of the division between two integers. For example, `7 % 2` would result in `1`.\n",
                "\n",
                "- **Exponentiation**: The `**` operator is used to raise an integer to a power. For example, `2 ** 3` would result in `8`.\n",
                "\n",
                "These are just a few examples of the arithmetic operations that can be performed with integers in Python. By combining these operations, you can perform complex calculations and solve mathematical problems using Python.\n"
            ]
        },
        {
            "cell_type": "code",
            "execution_count": 2,
            "metadata": {},
            "outputs": [
                {
                    "name": "stdout",
                    "output_type": "stream",
                    "text": [
                        "Addition: 7\n",
                        "Subtraction: 3\n",
                        "Multiplication: 10\n",
                        "Division (float): 2.5\n",
                        "Floor Division (integer): 2\n",
                        "Modulus: 1\n",
                        "Exponentiation: 25\n"
                    ]
                }
            ],
            "source": [
                "# Basic arithmetic with integers\n",
                "a = 5\n",
                "b = 2\n",
                "\n",
                "print(\"Addition:\", a + b)\n",
                "print(\"Subtraction:\", a - b)\n",
                "print(\"Multiplication:\", a * b)\n",
                "print(\"Division (float):\", a / b)\n",
                "print(\"Floor Division (integer):\", a // b)\n",
                "print(\"Modulus:\", a % b)\n",
                "print(\"Exponentiation:\", a ** b)\n"
            ]
        },
        {
            "cell_type": "markdown",
            "metadata": {},
            "source": [
                "#### Modulo Operator\n",
                "\n",
                "The modulo operator (`%`) is used to calculate the remainder of the division between two numbers. This operation is particularly useful for checking divisibility and for performing cyclic operations.\n",
                "\n",
                "For example, to check if a number is even, you can use the modulo operator to calculate the remainder when dividing by 2. If the remainder is 0, the number is even; otherwise, it is odd.\n",
                "\n",
                "Let's see some examples of using the modulo operator with integers:"
            ]
        },
        {
            "cell_type": "code",
            "execution_count": 3,
            "metadata": {},
            "outputs": [
                {
                    "name": "stdout",
                    "output_type": "stream",
                    "text": [
                        "0\n",
                        "1\n"
                    ]
                }
            ],
            "source": [
                "# Check if a number is even\n",
                "print(4 % 2)  # Output: 0 (4 is even)\n",
                "print(5 % 2)  # Output: 1 (5 is odd)"
            ]
        },
        {
            "cell_type": "code",
            "execution_count": 4,
            "metadata": {},
            "outputs": [
                {
                    "name": "stdout",
                    "output_type": "stream",
                    "text": [
                        "3\n",
                        "6\n"
                    ]
                }
            ],
            "source": [
                "# Calculate the remainder\n",
                "print(15 % 4)  # Output: 3 (15 = 3 * 4 + 3)\n",
                "print(20 % 7)  # Output: 6 (20 = 2 * 7 + 6)"
            ]
        },
        {
            "cell_type": "markdown",
            "metadata": {},
            "source": [
                "#### Integer Division\n",
                "\n",
                "The floor division operator (`//`) is used to perform integer division, which returns the largest integer less than or equal to the division result. This operation is useful for obtaining the quotient of a division without the fractional part.\n",
                "\n",
                "Let's see some examples of using the floor division operator with integers:"
            ]
        },
        {
            "cell_type": "code",
            "execution_count": 5,
            "metadata": {},
            "outputs": [
                {
                    "name": "stdout",
                    "output_type": "stream",
                    "text": [
                        "3\n",
                        "2\n"
                    ]
                }
            ],
            "source": [
                "# Perform integer division\n",
                "print(10 // 3)  # Output: 3 (3 is the largest integer less than 10/3)\n",
                "print(15 // 7)  # Output: 2 (2 is the largest integer less than 15/7)"
            ]
        },
        {
            "cell_type": "markdown",
            "metadata": {},
            "source": [
                "#### Combine Modulo and Floor Division\n",
                "\n",
                "The modulo and floor division operators can be combined to extract the digits of a number. By using the modulo operator, you can obtain the last digit of a number, and by using floor division, you can remove the last digit from the number.\n",
                "\n",
                "Let's see an example of combining modulo and floor division to extract the digits of a number:"
            ]
        },
        {
            "cell_type": "code",
            "execution_count": 6,
            "metadata": {},
            "outputs": [
                {
                    "name": "stdout",
                    "output_type": "stream",
                    "text": [
                        "Last digit: 5\n"
                    ]
                }
            ],
            "source": [
                "number = 12345\n",
                "last_digit = number % 10\n",
                "print(\"Last digit:\", last_digit)"
            ]
        },
        {
            "cell_type": "code",
            "execution_count": 7,
            "metadata": {},
            "outputs": [
                {
                    "name": "stdout",
                    "output_type": "stream",
                    "text": [
                        "Second last digit: 4\n"
                    ]
                }
            ],
            "source": [
                "second_last_digit = (number // 10) % 10\n",
                "print(\"Second last digit:\", second_last_digit)"
            ]
        },
        {
            "cell_type": "code",
            "execution_count": 8,
            "metadata": {},
            "outputs": [
                {
                    "name": "stdout",
                    "output_type": "stream",
                    "text": [
                        "Second digit: 2\n"
                    ]
                }
            ],
            "source": [
                "second_digit = (number // 1000) % 10\n",
                "print(\"Second digit:\", second_digit)"
            ]
        },
        {
            "cell_type": "markdown",
            "metadata": {},
            "source": [
                "## Floating-Point Numbers\n",
                "\n",
                "Floating-point numbers, or floats, represent real numbers and can contain fractional parts. We'll examine how Python handles floating-point arithmetic and the implications of using floats in calculations.\n",
                "\n",
                "### Arithmetic Operations with Floating-Point Numbers\n",
                "\n",
                "Floating-point numbers in Python can be used in the same arithmetic operations as integers. Here are some common arithmetic operations that can be performed with floating-point numbers:\n",
                "\n",
                "- **Addition**: The `+` operator is used to add two floating-point numbers together. For example, `2.5 + 3.5` would result in `6.0`.\n",
                "\n",
                "- **Subtraction**: The `-` operator is used to subtract one floating-point number from another. For example, `5.5 - 2.5` would result in `3.0`.\n",
                "\n",
                "- **Multiplication**: The `*` operator is used to multiply two floating-point numbers together. For example, `2.5 * 3.0` would result in `7.5`.\n",
                "\n",
                "- **Division**: The `/` operator is used to divide one floating-point number by another. For example, `7.5 / 2.5` would result in `3.0`.\n",
                "\n",
                "- **Exponentiation**: The `**` operator is used to raise a floating-point number to a power. For example, `2.5 ** 3` would result in `15.625`.\n",
                "\n",
                "These are just a few examples of the arithmetic operations that can be performed with floating-point numbers in Python. By combining these operations, you can perform complex calculations and solve mathematical problems using Python."
            ]
        },
        {
            "cell_type": "code",
            "execution_count": 9,
            "metadata": {},
            "outputs": [
                {
                    "name": "stdout",
                    "output_type": "stream",
                    "text": [
                        "Addition: 3.0\n",
                        "Subtraction: 2.0\n",
                        "Multiplication: 1.25\n",
                        "Division: 5.0\n",
                        "Exponentiation: 1.5811388300841898\n"
                    ]
                }
            ],
            "source": [
                "# Basic arithmetic with floating-point numbers\n",
                "c = 2.5\n",
                "d = 0.5\n",
                "\n",
                "print(\"Addition:\", c + d)\n",
                "print(\"Subtraction:\", c - d)\n",
                "print(\"Multiplication:\", c * d)\n",
                "print(\"Division:\", c / d)\n",
                "print(\"Exponentiation:\", c ** d)"
            ]
        },
        {
            "cell_type": "markdown",
            "metadata": {},
            "source": [
                "### Type Conversion\n",
                "\n",
                "Python provides built-in functions for converting between different numeric types. These functions allow you to convert integers to floats and vice versa, as well as to convert numbers to and from strings.\n",
                "\n"
            ]
        },
        {
            "cell_type": "markdown",
            "metadata": {},
            "source": [
                "#### Converting Integers to Floats\n",
                "\n",
                "You can convert an integer to a floating-point number using the `float()` function. This function takes an integer as an argument and returns a floating-point number.\n",
                "\n",
                "Let's see an example of converting an integer to a float:\n"
            ]
        },
        {
            "cell_type": "code",
            "execution_count": 10,
            "metadata": {},
            "outputs": [
                {
                    "name": "stdout",
                    "output_type": "stream",
                    "text": [
                        "Converting 10 to float: 10.0\n"
                    ]
                }
            ],
            "source": [
                "# Converting an integer to a float\n",
                "integer_value = 10\n",
                "floating_point_value = float(integer_value)\n",
                "print(\"Converting 10 to float:\", floating_point_value)"
            ]
        },
        {
            "cell_type": "markdown",
            "metadata": {},
            "source": [
                "\n",
                "#### Converting Floats to Integers\n",
                "\n",
                "You can convert a floating-point number to an integer using the `int()` function. This function takes a floating-point number as an argument and returns an integer.\n",
                "\n",
                "Let's see an example of converting a float to an integer:"
            ]
        },
        {
            "cell_type": "code",
            "execution_count": 11,
            "metadata": {},
            "outputs": [
                {
                    "name": "stdout",
                    "output_type": "stream",
                    "text": [
                        "Converting 3.14 to int: 3\n"
                    ]
                }
            ],
            "source": [
                "# Converting a float to an integer\n",
                "floating_point_value = 3.14\n",
                "integer_value = int(floating_point_value)\n",
                "print(\"Converting 3.14 to int:\", integer_value)"
            ]
        },
        {
            "cell_type": "code",
            "execution_count": 12,
            "metadata": {},
            "outputs": [
                {
                    "name": "stdout",
                    "output_type": "stream",
                    "text": [
                        "Converting '123.456' to float: 123.456 and to int: 123\n"
                    ]
                }
            ],
            "source": [
                "# Converting a string to a float and then to an int\n",
                "string_value = \"123.456\"\n",
                "float_value = float(string_value)\n",
                "int_value = int(float_value)\n",
                "print(\"Converting '123.456' to float:\", float_value, \"and to int:\", int_value)"
            ]
        },
        {
            "cell_type": "markdown",
            "metadata": {},
            "source": [
                "### Mathematical Functions\n",
                "\n",
                "Python provides a number of built-in mathematical functions that can be used to perform common mathematical operations. These functions can be used with both integers and floating-point numbers.\n",
                "\n",
                "Here are some common mathematical functions provided by Python:\n",
                "\n",
                "- **Absolute Value**: The `abs()` function returns the absolute value of a number. For example, `abs(-5)` would result in `5`.\n",
                "\n",
                "- **Rounding**: The `round()` function rounds a number to a specified number of decimal places. For example, `round(3.14159, 2)` would result in `3.14`.\n",
                "\n",
                "- **Minimum and Maximum**: The `min()` and `max()` functions return the minimum and maximum of two or more numbers. For example, `min(3, 5, 2)` would result in `2`, and `max(3, 5, 2)` would result in `5`.\n",
                "\n",
                "- **Summation**: The `sum()` function returns the sum of a sequence of numbers. For example, `sum([1, 2, 3, 4, 5])` would result in `15`.\n",
                "\n",
                "These functions can be used to perform a wide range of mathematical operations in Python. By combining these functions with arithmetic operations, you can solve complex mathematical problems and perform advanced calculations.\n"
            ]
        },
        {
            "cell_type": "code",
            "execution_count": 13,
            "metadata": {},
            "outputs": [
                {
                    "name": "stdout",
                    "output_type": "stream",
                    "text": [
                        "Pi: 3.141592653589793\n",
                        "Euler's number: 2.718281828459045\n"
                    ]
                }
            ],
            "source": [
                "# Using mathematical functions from the math module\n",
                "import math\n",
                "\n",
                "# Constants\n",
                "print(\"Pi:\", math.pi)\n",
                "print(\"Euler's number:\", math.e)"
            ]
        },
        {
            "cell_type": "code",
            "execution_count": 14,
            "metadata": {},
            "outputs": [
                {
                    "name": "stdout",
                    "output_type": "stream",
                    "text": [
                        "Sin of 90 degrees: 1.0\n"
                    ]
                }
            ],
            "source": [
                "# Trigonometric functions\n",
                "angle = math.radians(90)  # Converting 90 degrees to radians\n",
                "print(\"Sin of 90 degrees:\", math.sin(angle))"
            ]
        },
        {
            "cell_type": "code",
            "execution_count": 15,
            "metadata": {},
            "outputs": [
                {
                    "name": "stdout",
                    "output_type": "stream",
                    "text": [
                        "Natural logarithm of Euler's number: 1.0\n",
                        "Base-10 logarithm of 1000: 3.0\n"
                    ]
                }
            ],
            "source": [
                "# Logarithmic functions\n",
                "print(\"Natural logarithm of Euler's number:\", math.log(math.e))\n",
                "print(\"Base-10 logarithm of 1000:\", math.log10(1000))"
            ]
        },
        {
            "cell_type": "code",
            "execution_count": 16,
            "metadata": {},
            "outputs": [
                {
                    "name": "stdout",
                    "output_type": "stream",
                    "text": [
                        "2 raised to the power of 3: 8.0\n",
                        "Square root of 64: 8.0\n"
                    ]
                }
            ],
            "source": [
                "# Power and square root\n",
                "print(\"2 raised to the power of 3:\", math.pow(2, 3))\n",
                "print(\"Square root of 64:\", math.sqrt(64))"
            ]
        },
        {
            "cell_type": "code",
            "execution_count": 17,
            "metadata": {},
            "outputs": [
                {
                    "name": "stdout",
                    "output_type": "stream",
                    "text": [
                        "Absolute value of -5: 5.0\n"
                    ]
                }
            ],
            "source": [
                "# Absolute value\n",
                "print(\"Absolute value of -5:\", math.fabs(-5))"
            ]
        },
        {
            "cell_type": "code",
            "execution_count": 18,
            "metadata": {},
            "outputs": [
                {
                    "name": "stdout",
                    "output_type": "stream",
                    "text": [
                        "Rounding off 2.573: 3\n",
                        "Rounding off 2.573 to 2 decimal places: 2.57\n",
                        "Rounding off 3.5: 4\n"
                    ]
                }
            ],
            "source": [
                "# Rounding off\n",
                "print(\"Rounding off 2.573:\", round(2.573))\n",
                "print(\"Rounding off 2.573 to 2 decimal places:\", round(2.573, 2))\n",
                "print(\"Rounding off 3.5:\", round(3.5))\n"
            ]
        },
        {
            "cell_type": "code",
            "execution_count": 19,
            "metadata": {},
            "outputs": [
                {
                    "name": "stdout",
                    "output_type": "stream",
                    "text": [
                        "Minimum of 2, 3: 2\n",
                        "Maximum of 2, 3: 3\n"
                    ]
                }
            ],
            "source": [
                "# Minimum and maximum\n",
                "print(\"Minimum of 2, 3:\", min(2, 3))\n",
                "print(\"Maximum of 2, 3:\", max(2, 3))"
            ]
        },
        {
            "cell_type": "markdown",
            "metadata": {},
            "source": [
                "# 4. Strings in Python 📝\n",
                "\n",
                "Strings are a fundamental data type in Python used to represent textual data. They are immutable sequences, meaning once a string is created, the characters within it cannot be changed. This characteristic of strings has various implications for how they are handled in Python programs.\n",
                "\n"
            ]
        },
        {
            "cell_type": "markdown",
            "metadata": {},
            "source": [
                "## Creating Strings\n",
                "\n",
                "Strings in Python can be created by enclosing characters in quotes. Python supports both single quotes (`'`) and double quotes (`\"`), allowing for flexibility in handling quotes and apostrophes within strings.\n",
                "\n",
                "```python\n",
                "single_quoted_string = 'Hello, Python!'\n",
                "double_quoted_string = \"Hello, Python!\"\n",
                "```"
            ]
        },
        {
            "cell_type": "code",
            "execution_count": 20,
            "metadata": {},
            "outputs": [
                {
                    "name": "stdout",
                    "output_type": "stream",
                    "text": [
                        "data science\n",
                        "data science\n"
                    ]
                }
            ],
            "source": [
                "single_quoted_string = 'data science'\n",
                "double_quoted_string = \"data science\"\n",
                "print(single_quoted_string)\n",
                "print(double_quoted_string)"
            ]
        },
        {
            "cell_type": "markdown",
            "metadata": {},
            "source": [
                "### Multiline Strings in Python\n",
                "\n",
                "In Python, multiline strings are created by enclosing a sequence of characters within triple quotes (`'''` or `\"\"\"`). This is useful when the string text spans multiple lines, or contains characters that are difficult to escape in a regular string.\n",
                "\n",
                "Here's an example:\n",
                "\n",
                "```python\n",
                "multiline_string = \"\"\"\n",
                "This is a multiline\n",
                "string in Python.\n",
                "\"\"\"\n"
            ]
        },
        {
            "cell_type": "code",
            "execution_count": 21,
            "metadata": {},
            "outputs": [
                {
                    "name": "stdout",
                    "output_type": "stream",
                    "text": [
                        "This is a\n",
                        "multi-line string\n"
                    ]
                }
            ],
            "source": [
                "multiline_string = \"\"\"This is a\n",
                "multi-line string\"\"\"\n",
                "print(multiline_string)"
            ]
        },
        {
            "cell_type": "markdown",
            "metadata": {},
            "source": [
                "### Using Single and Double Apostrophes in Multiline Strings in Python\n",
                "\n",
                "In Python, you can create multiline strings by enclosing a sequence of characters within triple quotes (`'''` or `\"\"\"`). This allows you to include both single (`'`) and double (`\"`) apostrophes within the same string without needing to escape them.\n",
                "\n",
                "Here's an example:\n",
                "\n",
                "```python\n",
                "multiline_string = '''\n",
                "You can use single apostrophes like this: 'Hello, world!'\n",
                "And you can use double apostrophes like this: \"Hello, world!\"\n",
                "'''\n",
                "\n",
                "In the above example, both the single and double apostrophes are included in the string as literal characters. This is because the string is enclosed in triple quotes, which means that single and double apostrophes do not need to be escaped.\n",
                "\n",
                "However, if you want to include a literal backslash (\\), you will need to escape it by using two backslashes (\\\\).\n",
                "\n",
                "multiline_string = '''\n",
                "If you want to include a literal backslash, you can escape it like this: \\\\\\\\\n",
                "'''\n",
                "\n",
                "In this case, the string will contain a single backslash.\n",
                "\n"
            ]
        },
        {
            "cell_type": "code",
            "execution_count": 22,
            "metadata": {},
            "outputs": [
                {
                    "name": "stdout",
                    "output_type": "stream",
                    "text": [
                        "Python's syntax is easy to learn\n",
                        "He said, \"Python is awesome\"\n",
                        "He said, \"Python's syntax is easy to learn\"\n"
                    ]
                }
            ],
            "source": [
                "apos = \"Python's syntax is easy to learn\"\n",
                "quote = 'He said, \"Python is awesome\"'\n",
                "escaped_quote = 'He said, \"Python\\'s syntax is easy to learn\"'\n",
                "\n",
                "print(apos)\n",
                "print(quote)\n",
                "print(escaped_quote)\n"
            ]
        },
        {
            "cell_type": "markdown",
            "metadata": {},
            "source": [
                "## String Operations\n",
                "\n",
                "Strings in Python support a variety of operations that allow you to manipulate and work with text data. Here are some common string operations:"
            ]
        },
        {
            "cell_type": "markdown",
            "metadata": {},
            "source": [
                "### Concatenation\n",
                "\n",
                "String concatenation is the process of combining two or more strings together. In Python, you can use the `+` operator to concatenate strings. For example:\n",
                "\n",
                "```python\n",
                "first_name = \"John\"\n",
                "last_name = \"Doe\"\n",
                "full_name = first_name + \" \" + last_name\n",
                "print(full_name)  # Output: John Doe\n",
                "```"
            ]
        },
        {
            "cell_type": "code",
            "execution_count": 23,
            "metadata": {},
            "outputs": [
                {
                    "name": "stdout",
                    "output_type": "stream",
                    "text": [
                        "Data Science\n"
                    ]
                }
            ],
            "source": [
                "# String concatenation\n",
                "string1 = \"Data\"\n",
                "string2 = \"Science\"\n",
                "string3 = string1 + \" \" + string2\n",
                "print(string3)"
            ]
        },
        {
            "cell_type": "markdown",
            "metadata": {},
            "source": [
                "### String Repetition\n",
                "\n",
                "You can use the `*` operator to repeat a string a specified number of times. For example:\n",
                "\n",
                "```python\n",
                "text = \"Hello, \" * 3\n",
                "print(text)  # Output: Hello, Hello, Hello,\n",
                "```"
            ]
        },
        {
            "cell_type": "code",
            "execution_count": 24,
            "metadata": {},
            "outputs": [
                {
                    "name": "stdout",
                    "output_type": "stream",
                    "text": [
                        "Hello, Hello, Hello, \n",
                        "PythonPythonPythonPythonPython\n",
                        "\n",
                        "\n",
                        "\n"
                    ]
                }
            ],
            "source": [
                "# Repeat a string multiple times\n",
                "text = \"Hello, \" * 3\n",
                "print(text)  # Output: Hello, Hello, Hello,\n",
                "\n",
                "# Repeat a string using the multiplication operator\n",
                "word = \"Python\"\n",
                "repeated_word = word * 5\n",
                "print(repeated_word)  # Output: PythonPythonPythonPythonPython\n",
                "\n",
                "# Repeat a string with an empty string\n",
                "empty_string = \"\" * 10\n",
                "print(empty_string)  # Output: \n",
                "\n",
                "# Repeat a string with a negative number\n",
                "negative_repetition = \"Hello\" * -2\n",
                "print(negative_repetition)  # Output: \n",
                "\n",
                "# Repeat a string with zero repetition\n",
                "zero_repetition = \"Hello\" * 0\n",
                "print(zero_repetition)  # Output: \n"
            ]
        },
        {
            "cell_type": "markdown",
            "metadata": {},
            "source": [
                "### Accessing Characters and Slicing\n",
                "\n",
                "You can access individual characters in a string using indexing. In Python, strings are zero-indexed, meaning the first character is at index 0, the second character is at index 1, and so on. You can also use negative indices to access characters from the end of the string.\n",
                "\n",
                "```python\n",
                "text = \"Hello, Python!\"\n",
                "print(text[0])    # Output: H\n",
                "print(text[-1])   # Output: !\n",
                "```\n",
                "\n",
                "You can also use slicing to extract a substring from a string. Slicing allows you to specify a range of indices to extract a portion of the string.\n",
                "\n",
                "```python\n",
                "text = \"Hello, Python!\"\n",
                "print(text[7:13])  # Output: Python\n",
                "```"
            ]
        },
        {
            "cell_type": "code",
            "execution_count": 25,
            "metadata": {},
            "outputs": [
                {
                    "name": "stdout",
                    "output_type": "stream",
                    "text": [
                        "First character: H\n",
                        "Last character: !\n"
                    ]
                }
            ],
            "source": [
                "# Accessing Characters in Python\n",
                "s = \"Hello, World!\"\n",
                "first_char = s[0]  # 'H'\n",
                "last_char = s[-1]  # '!'\n",
                "\n",
                "print(f\"First character: {first_char}\")\n",
                "print(f\"Last character: {last_char}\")"
            ]
        },
        {
            "cell_type": "code",
            "execution_count": 26,
            "metadata": {},
            "outputs": [
                {
                    "name": "stdout",
                    "output_type": "stream",
                    "text": [
                        "First five characters: Hello\n",
                        "Last five characters: orld!\n",
                        "Middle characters: World\n"
                    ]
                }
            ],
            "source": [
                "# Slicing Strings in Python\n",
                "s = \"Hello, World!\"\n",
                "first_five_chars = s[:5]  # 'Hello'\n",
                "last_five_chars = s[-5:]  # 'orld!'\n",
                "middle_chars = s[7:12]  # 'World'\n",
                "\n",
                "print(f\"First five characters: {first_five_chars}\")\n",
                "print(f\"Last five characters: {last_five_chars}\")\n",
                "print(f\"Middle characters: {middle_chars}\")"
            ]
        },
        {
            "cell_type": "markdown",
            "metadata": {},
            "source": [
                "### String Length\n",
                "\n",
                "You can use the `len()` function to get the length of a string, which is the number of characters it contains. For example:\n",
                "\n",
                "```python\n",
                "text = \"Hello, Python!\"\n",
                "print(len(text))  # Output: 14\n",
                "```\n",
                "\n"
            ]
        },
        {
            "cell_type": "code",
            "execution_count": 27,
            "metadata": {},
            "outputs": [
                {
                    "name": "stdout",
                    "output_type": "stream",
                    "text": [
                        "The length of 'Hello, Python!' is 14\n"
                    ]
                }
            ],
            "source": [
                "# Counting the number of characters in a string\n",
                "text = \"Hello, Python!\"\n",
                "length = len(text)\n",
                "print(f\"The length of '{text}' is {length}\")"
            ]
        },
        {
            "cell_type": "markdown",
            "metadata": {},
            "source": [
                "## Formatting Strings\n",
                "\n",
                "Python provides several ways to format strings, allowing you to create more readable and maintainable code. Here are some common string formatting techniques:"
            ]
        },
        {
            "cell_type": "markdown",
            "metadata": {},
            "source": [
                "\n",
                "### Using the `format()` Method\n",
                "\n",
                "The `format()` method allows you to format strings by replacing placeholders with values. Placeholders are represented by curly braces `{}` within the string, and the `format()` method replaces them with the specified values.\n",
                "\n",
                "\n"
            ]
        },
        {
            "cell_type": "code",
            "execution_count": 28,
            "metadata": {},
            "outputs": [
                {
                    "name": "stdout",
                    "output_type": "stream",
                    "text": [
                        "Hello, my name is John and I am 30 years old.\n"
                    ]
                }
            ],
            "source": [
                "name = \"John\"\n",
                "age = 30\n",
                "formatted_string = \"Hello, my name is {} and I am {} years old.\".format(name, age)\n",
                "print(formatted_string)  # Output: Hello, my name is John and I am 30 years old."
            ]
        },
        {
            "cell_type": "markdown",
            "metadata": {},
            "source": [
                "### Using `%` Operator\n",
                "\n",
                "The `%` operator can be used to format strings by specifying placeholders and values to replace them. Placeholders are represented by `%` followed by a format specifier, and the `%` operator replaces them with the specified values.\n",
                "\n",
                "\n"
            ]
        },
        {
            "cell_type": "code",
            "execution_count": 29,
            "metadata": {},
            "outputs": [
                {
                    "name": "stdout",
                    "output_type": "stream",
                    "text": [
                        "Hello, my name is John and I am 30 years old.\n"
                    ]
                }
            ],
            "source": [
                "name = \"John\"\n",
                "age = 30\n",
                "formatted_string = \"Hello, my name is %s and I am %d years old.\" % (name, age)\n",
                "print(formatted_string)  # Output: Hello, my name is John and I am 30 years old."
            ]
        },
        {
            "cell_type": "markdown",
            "metadata": {},
            "source": [
                "### Using f-Strings\n",
                "\n",
                "f-Strings, introduced in Python 3.6, provide a concise and readable way to format strings. You can create an f-string by prefixing the string with `f` or `F` and embedding expressions within curly braces `{}`.\n"
            ]
        },
        {
            "cell_type": "code",
            "execution_count": 30,
            "metadata": {},
            "outputs": [
                {
                    "name": "stdout",
                    "output_type": "stream",
                    "text": [
                        "Hello, my name is John and I am 30 years old.\n"
                    ]
                }
            ],
            "source": [
                "# String interpolation\n",
                "name = \"John\"\n",
                "age = 30\n",
                "formatted_string = f\"Hello, my name is {name} and I am {age} years old.\"\n",
                "print(formatted_string)  # Output: Hello, my name is John and I am 30 years old."
            ]
        },
        {
            "cell_type": "markdown",
            "metadata": {},
            "source": [
                "These string formatting techniques provide flexibility and readability when working with strings in Python. By using these techniques, you can create more maintainable and expressive code.\n",
                "\n"
            ]
        },
        {
            "cell_type": "markdown",
            "metadata": {},
            "source": [
                "### Escape Characters in Python\n",
                "\n",
                "Escape characters are special characters that are used to perform specific tasks within strings. They are represented by a backslash (`\\`) followed by a character or sequence of characters. Here are some common escape characters in Python:\n",
                "\n",
                "- **Newline (`\\n`)**: Inserts a newline character, starting a new line.\n",
                "- **Tab (`\\t`)**: Inserts a tab character, creating horizontal space.\n",
                "- **Backslash (`\\\\`)**: Inserts a backslash character, escaping special characters.\n",
                "- **Single Quote (`\\'`)**: Inserts a single quote character within a single-quoted string.\n",
                "- **Double Quote (`\\\"`)**: Inserts a double quote character within a double-quoted string.\n",
                "\n",
                "Escape characters are useful for including special characters within strings and for formatting text in a specific way. By using escape characters, you can create more expressive and readable strings in your Python programs."
            ]
        },
        {
            "cell_type": "code",
            "execution_count": 63,
            "metadata": {},
            "outputs": [
                {
                    "name": "stdout",
                    "output_type": "stream",
                    "text": [
                        "This string contains a single quote (') character.\n"
                    ]
                }
            ],
            "source": [
                "# Escape Characters in Python\n",
                "escaped_string = \"This string contains a single quote (\\') character.\"\n",
                "print(escaped_string)"
            ]
        },
        {
            "cell_type": "code",
            "execution_count": 64,
            "metadata": {},
            "outputs": [
                {
                    "name": "stdout",
                    "output_type": "stream",
                    "text": [
                        "This string\n",
                        "contains two lines.\n"
                    ]
                }
            ],
            "source": [
                "# Newline character\n",
                "multiline_string = \"This string\\ncontains two lines.\"\n",
                "print(multiline_string)"
            ]
        },
        {
            "cell_type": "code",
            "execution_count": 65,
            "metadata": {},
            "outputs": [
                {
                    "name": "stdout",
                    "output_type": "stream",
                    "text": [
                        "\tThis string will be indented.\n"
                    ]
                }
            ],
            "source": [
                "# Tab character\n",
                "indented_string = \"\\tThis string will be indented.\"\n",
                "print(indented_string)"
            ]
        },
        {
            "cell_type": "markdown",
            "metadata": {},
            "source": [
                "# 5. Boolean Values in Python\n",
                "\n",
                "Boolean values are a fundamental data type in Python used to represent truth values. They can have one of two values: `True` or `False`. In Python, boolean values are used to make decisions and control the flow of a program.\n",
                "\n",
                "Here are some common use cases for boolean values in Python:\n",
                "\n",
                "- **Conditional Statements**: Boolean values are used to control the flow of a program by evaluating conditions and executing code based on the result.\n",
                "- **Looping Constructs**: Boolean values are used to control the iteration of loops by evaluating conditions and repeating code based on the result.\n",
                "- **Comparison Operations**: Boolean values are used to compare values and determine their relationship, such as equality, inequality, and ordering.\n",
                "\n",
                "In this section, we'll explore the basics of boolean values in Python, including how to create boolean values, perform comparison operations, and use boolean values in conditional statements and looping constructs."
            ]
        },
        {
            "cell_type": "markdown",
            "metadata": {},
            "source": [
                "### Comparison Operations\n",
                "\n",
                "Comparison operations are used to compare values and determine their relationship. In Python, comparison operations return boolean values (`True` or `False`) based on the result of the comparison.\n",
                "\n",
                "Here are some common comparison operations in Python:\n",
                "\n",
                "- **Equality (`==`)**: Compares two values to determine if they are equal. For example, `5 == 5` would result in `True`.\n",
                "- **Inequality (`!=`)**: Compares two values to determine if they are not equal. For example, `5 != 3` would result in `True`.\n",
                "- **Greater Than (`>`)**: Compares two values to determine if the left operand is greater than the right operand. For example, `5 > 3` would result in `True`.\n",
                "- **Less Than (`<`)**: Compares two values to determine if the left operand is less than the right operand. For example, `3 < 5` would result in `True`.\n",
                "- **Greater Than or Equal To (`>=`)**: Compares two values to determine if the left operand is greater than or equal to the right operand. For example, `5 >= 5` would result in `True`.\n",
                "- **Less Than or Equal To (`<=`)**: Compares two values to determine if the left operand is less than or equal to the right operand. For example, `3 <= 5` would result in `True`.\n",
                "\n",
                "These comparison operations can be used to compare values and determine their relationship, allowing you to make decisions and control the flow of a program based on the result."
            ]
        },
        {
            "cell_type": "code",
            "execution_count": 31,
            "metadata": {},
            "outputs": [
                {
                    "name": "stdout",
                    "output_type": "stream",
                    "text": [
                        "x > y is False\n",
                        "x < y is True\n",
                        "x == y is False\n",
                        "x != y is True\n",
                        "x >= y is False\n",
                        "x <= y is True\n"
                    ]
                }
            ],
            "source": [
                "# Comparison operations\n",
                "x = 10\n",
                "y = 12\n",
                "\n",
                "print(\"x > y is\", x > y)  # Output: x > y is False\n",
                "print(\"x < y is\", x < y)  # Output: x < y is True\n",
                "\n",
                "print(\"x == y is\", x == y)  # Output: x == y is False\n",
                "print(\"x != y is\", x != y)  # Output: x != y is True\n",
                "\n",
                "print(\"x >= y is\", x >= y)  # Output: x >= y is False\n",
                "print(\"x <= y is\", x <= y)  # Output: x <= y is True"
            ]
        },
        {
            "cell_type": "markdown",
            "metadata": {},
            "source": [
                "### Logical Operations\n",
                "\n",
                "Logical operations are used to combine boolean values and determine their relationship. In Python, logical operations return boolean values (`True` or `False`) based on the result of the operation.\n",
                "\n",
                "Here are some common logical operations in Python:\n",
                "\n",
                "- **Logical AND (`and`)**: Returns `True` if both operands are `True`. For example, `True and True` would result in `True`.\n",
                "- **Logical OR (`or`)**: Returns `True` if at least one operand is `True`. For example, `True or False` would result in `True`.\n",
                "- **Logical NOT (`not`)**: Returns `True` if the operand is `False`, and `False` if the operand is `True`. For example, `not True` would result in `False`.\n",
                "\n",
                "These logical operations can be used to combine boolean values and determine their relationship, allowing you to make decisions and control the flow of a program based on the result.\n"
            ]
        },
        {
            "cell_type": "code",
            "execution_count": 32,
            "metadata": {},
            "outputs": [
                {
                    "name": "stdout",
                    "output_type": "stream",
                    "text": [
                        "Is it not nice weather today? False\n",
                        "Is the weather nice today and TFL working without delays? False\n",
                        "Is the weather nice today or TFL working without delays? True\n"
                    ]
                }
            ],
            "source": [
                "# Logical operations\n",
                "the_weather_is_nice_today = True\n",
                "tfl_is_working_without_delays = False\n",
                "\n",
                "print(\"Is it not nice weather today?\", not the_weather_is_nice_today)\n",
                "print(\"Is the weather nice today and TFL working without delays?\", the_weather_is_nice_today and tfl_is_working_without_delays)\n",
                "print(\"Is the weather nice today or TFL working without delays?\", the_weather_is_nice_today or tfl_is_working_without_delays)\n"
            ]
        },
        {
            "cell_type": "markdown",
            "metadata": {},
            "source": [
                "### Logical and Comparison Operations \n",
                "\n",
                "Logical and comparison operations can be combined to create complex conditions for making decisions and controlling the flow of a program. By using these operations, you can create more expressive and flexible code that can handle a wide range of scenarios.\n",
                "\n",
                "Here are some examples of combining logical and comparison operations in Python:\n",
                "\n",
                "- **Combining Comparison Operations**: You can combine comparison operations using logical operations to create complex conditions. For example, `5 > 3 and 7 < 10` would result in `True`.\n",
                "\n",
                "- **Negating Conditions**: You can use the logical NOT (`not`) operation to negate a condition. For example, `not 5 > 3` would result in `False`.\n",
                "\n",
                "- **Combining Logical Operations**: You can combine logical operations to create complex conditions. For example, `True and (False or True)` would result in `True`.\n",
                "\n",
                "By combining these operations, you can create conditions that can handle a wide range of scenarios and make decisions based on the result."
            ]
        },
        {
            "cell_type": "code",
            "execution_count": 33,
            "metadata": {},
            "outputs": [
                {
                    "name": "stdout",
                    "output_type": "stream",
                    "text": [
                        "x > y is False\n",
                        "x == z is True\n",
                        "x > y and x == z is False\n",
                        "x > y or x == z is True\n"
                    ]
                }
            ],
            "source": [
                "# Comparison operation and logical operation\n",
                "x = 10\n",
                "y = 12\n",
                "z = 10\n",
                "\n",
                "print(\"x > y is\", x > y)  # Output: x > y is False\n",
                "print(\"x == z is\", x == z)  # Output: x == z is True\n",
                "print(\"x > y and x == z is\", x > y and x == z)  # Output: x > y and x == z is False\n",
                "print(\"x > y or x == z is\", x > y or x == z)  # Output: x > y or x == z is True"
            ]
        },
        {
            "cell_type": "markdown",
            "metadata": {},
            "source": [
                "### Converting to boolean and using boolean values\n",
                "\n",
                "In Python, you can convert values of other types to boolean values using the `bool()` function. This function returns `True` if the value is truthy, and `False` if the value is falsy.\n",
                "\n",
                "Here are some common truthy and falsy values in Python:\n",
                "\n",
                "- **Truthy Values**: Non-zero numbers, non-empty sequences (e.g., lists, tuples, strings), and non-empty dictionaries are considered truthy.\n",
                "- **Falsy Values**: Zero, empty sequences (e.g., lists, tuples, strings), and empty dictionaries are considered falsy.\n",
                "\n",
                "You can use boolean values to make decisions and control the flow of a program using conditional statements and looping constructs. By combining boolean values with comparison and logical operations, you can create more expressive and flexible code."
            ]
        },
        {
            "cell_type": "code",
            "execution_count": 34,
            "metadata": {},
            "outputs": [
                {
                    "name": "stdout",
                    "output_type": "stream",
                    "text": [
                        "False\n",
                        "True\n",
                        "True\n",
                        "False\n",
                        "True\n",
                        "False\n",
                        "True\n"
                    ]
                }
            ],
            "source": [
                "# Converting to bool\n",
                "print(bool(0))  # Output: False\n",
                "print(bool(1))  # Output: True\n",
                "print(bool(10))  # Output: True\n",
                "print(bool(0.0))  # Output: False\n",
                "print(bool(0.1))  # Output: True\n",
                "print(bool(\"\"))  # Output: False\n",
                "print(bool(\"Hello\"))  # Output: True"
            ]
        },
        {
            "cell_type": "code",
            "execution_count": 35,
            "metadata": {},
            "outputs": [
                {
                    "name": "stdout",
                    "output_type": "stream",
                    "text": [
                        "1\n",
                        "0\n",
                        "1.0\n",
                        "0.0\n",
                        "True\n",
                        "False\n"
                    ]
                }
            ],
            "source": [
                "# Converting from bool\n",
                "print(int(True))  # Output: 1\n",
                "print(int(False))  # Output: 0\n",
                "print(float(True))  # Output: 1.0\n",
                "print(float(False))  # Output: 0.0\n",
                "print(str(True))  # Output: 'True'\n",
                "print(str(False))  # Output: 'False'"
            ]
        },
        {
            "cell_type": "markdown",
            "metadata": {},
            "source": [
                "# 6. Data Input from keyboard 🎹\n",
                "\n",
                "Python provides a built-in function called `input()` that allows you to capture user input from the keyboard. The `input()` function takes a prompt as an argument and displays it to the user, then waits for the user to enter text from the keyboard.\n",
                "\n",
                "Here's an example of using the `input()` function to capture user input:\n",
                "\n",
                "```python\n",
                "name = input(\"Enter your name: \")\n",
                "print(f\"Hello, {name}!\")\n",
                "```\n",
                "\n",
                "In this example, the `input()` function displays the prompt \"Enter your name: \" to the user and waits for the user to enter text from the keyboard. The text entered by the user is then assigned to the variable `name`, which is used to display a personalized greeting.\n",
                "\n",
                "The `input()` function returns the text entered by the user as a string, which can be assigned to a variable for further processing.\n"
            ]
        },
        {
            "cell_type": "code",
            "execution_count": 36,
            "metadata": {},
            "outputs": [
                {
                    "name": "stdout",
                    "output_type": "stream",
                    "text": [
                        "Hello, Test\n"
                    ]
                }
            ],
            "source": [
                "# Input Example 1:\n",
                "name = input(\"Enter your name: \")\n",
                "print(f\"Hello, {name}\")\n"
            ]
        },
        {
            "cell_type": "code",
            "execution_count": 37,
            "metadata": {},
            "outputs": [
                {
                    "name": "stdout",
                    "output_type": "stream",
                    "text": [
                        "You have lived for 180 months.\n"
                    ]
                }
            ],
            "source": [
                "\n",
                "# Input Example 2:\n",
                "age = int(input(\"Enter your age: \"))\n",
                "print(f\"You have lived for {age * 12} months.\")\n",
                "\n"
            ]
        },
        {
            "cell_type": "code",
            "execution_count": 38,
            "metadata": {},
            "outputs": [
                {
                    "name": "stdout",
                    "output_type": "stream",
                    "text": [
                        "Your height in centimeters is 186.0 cm.\n"
                    ]
                }
            ],
            "source": [
                "# Input Example 3:\n",
                "height = float(input(\"Enter your height in meters: \"))\n",
                "print(f\"Your height in centimeters is {height * 100} cm.\")\n",
                "\n",
                "\n"
            ]
        },
        {
            "cell_type": "code",
            "execution_count": 39,
            "metadata": {},
            "outputs": [
                {
                    "name": "stdout",
                    "output_type": "stream",
                    "text": [
                        "The area of the rectangle is 20.0 square units.\n"
                    ]
                }
            ],
            "source": [
                "# Input Example 4:\n",
                "length = float(input(\"Enter the length of the rectangle: \"))\n",
                "width = float(input(\"Enter the width of the rectangle: \"))\n",
                "area = length * width\n",
                "print(f\"The area of the rectangle is {area} square units.\")\n",
                "\n"
            ]
        },
        {
            "cell_type": "code",
            "execution_count": 40,
            "metadata": {},
            "outputs": [
                {
                    "name": "stdout",
                    "output_type": "stream",
                    "text": [
                        "Hello, Test. You are 28 years old.\n"
                    ]
                }
            ],
            "source": [
                "# Input Example 5:\n",
                "name = input(\"Enter your name: \")\n",
                "age = int(input(\"Enter your age: \"))\n",
                "print(f\"Hello, {name}. You are {age} years old.\")"
            ]
        },
        {
            "cell_type": "markdown",
            "metadata": {},
            "source": [
                "# 7. Extra tricks 📝\n",
                "\n",
                "Python provides several additional features and tricks that can help you write cleaner, more expressive, and more maintainable code. In this section, we'll explore some of these features, including comments, whitespace, the Python style guide, compound operators, double assignment, and the `print()` function.\n",
                "\n"
            ]
        },
        {
            "cell_type": "markdown",
            "metadata": {},
            "source": [
                "### Comments\n",
                "\n",
                "Comments are used to document and explain code, making it easier to understand and maintain. In Python, comments are created using the `#` character, which indicates that the rest of the line is a comment.\n",
                "\n",
                "Here are some common use cases for comments in Python:\n",
                "\n",
                "- **Documenting Code**: Comments are used to explain the purpose and functionality of code, making it easier to understand and maintain.\n",
                "- **Disabling Code**: Comments are used to temporarily disable code without deleting it, allowing you to test different scenarios and debug issues.\n",
                "\n"
            ]
        },
        {
            "cell_type": "code",
            "execution_count": 42,
            "metadata": {},
            "outputs": [
                {
                    "name": "stdout",
                    "output_type": "stream",
                    "text": [
                        "Hello, World!\n"
                    ]
                }
            ],
            "source": [
                "# Comments example\n",
                "\n",
                "# This is a single line comment\n",
                "print(\"Hello, World!\")"
            ]
        },
        {
            "cell_type": "code",
            "execution_count": 43,
            "metadata": {},
            "outputs": [
                {
                    "data": {
                        "text/plain": [
                            "'\\nThis is a multi-line comment\\nthat spans multiple lines\\n'"
                        ]
                    },
                    "execution_count": 43,
                    "metadata": {},
                    "output_type": "execute_result"
                }
            ],
            "source": [
                "\"\"\"\n",
                "This is a multi-line comment\n",
                "that spans multiple lines\n",
                "\"\"\""
            ]
        },
        {
            "cell_type": "markdown",
            "metadata": {},
            "source": [
                "### Whitespace\n",
                "\n",
                "Whitespace is used to structure and format code, making it easier to read and understand. In Python, whitespace is used to indicate the structure of code, including indentation, line breaks, and spacing.\n",
                "\n",
                "Here are some common use cases for whitespace in Python:\n",
                "\n",
                "- **Indentation**: Indentation is used to define the structure of code, including blocks of code within functions, loops, and conditional statements.\n",
                "- **Line Breaks**: Line breaks are used to separate lines of code, making it easier to read and understand.\n",
                "\n"
            ]
        },
        {
            "cell_type": "markdown",
            "metadata": {},
            "source": [
                "### Python Style Guide\n",
                "\n",
                "The Python style guide, also known as PEP 8, provides guidelines and best practices for writing clean and readable code. By following the style guide, you can create code that is consistent, maintainable, and easy to understand.\n",
                "\n",
                "Here are some common style guide recommendations:\n",
                "\n",
                "- **Indentation**: Use 4 spaces for indentation to define the structure of code.\n",
                "- **Line Length**: Limit lines to a maximum of 79 characters to ensure readability.\n",
                "- **Whitespace**: Use whitespace to separate elements of code, making it easier to read and understand.\n",
                "\n",
                "By following the style guide, you can create code that is consistent, maintainable, and easy to understand.\n",
                "\n"
            ]
        },
        {
            "cell_type": "markdown",
            "metadata": {},
            "source": [
                "### Compound Operators\n",
                "\n",
                "Compound operators are used to perform operations in a more concise way, combining an arithmetic or logical operation with an assignment. In Python, compound operators include `+=`, `-=`, `*=`, `/=`, `//=`, `%=`, `**=`, `&=`, `|=`, `^=`, `<<=`, and `>>=`.\n",
                "\n",
                "Here are some common compound operators in Python:\n",
                "\n",
                "- **Addition Assignment (`+=`)**: Adds the right operand to the left operand and assigns the result to the left operand.\n",
                "- **Subtraction Assignment (`-=`)**: Subtracts the right operand from the left operand and assigns the result to the left operand.\n",
                "- **Multiplication Assignment (`*=`)**: Multiplies the left operand by the right operand and assigns the result to the left operand.\n",
                "\n",
                "By using compound operators, you can perform operations in a more concise way, making your code more expressive and maintainable.\n",
                "\n"
            ]
        },
        {
            "cell_type": "code",
            "execution_count": 44,
            "metadata": {},
            "outputs": [
                {
                    "name": "stdout",
                    "output_type": "stream",
                    "text": [
                        "15\n"
                    ]
                }
            ],
            "source": [
                "x = 10\n",
                "x += 5  # Equivalent to x = x + 5\n",
                "print(x)  # Output: 15"
            ]
        },
        {
            "cell_type": "code",
            "execution_count": 45,
            "metadata": {},
            "outputs": [
                {
                    "name": "stdout",
                    "output_type": "stream",
                    "text": [
                        "5.0\n"
                    ]
                }
            ],
            "source": [
                "y = 20\n",
                "y /= 4  # Equivalent to y = y / 4\n",
                "print(y)  # Output: 5.0"
            ]
        },
        {
            "cell_type": "markdown",
            "metadata": {},
            "source": [
                "### Double Assignment\n",
                "\n",
                "Double assignment is a technique used to swap values between variables without needing a temporary variable. In Python, you can use double assignment to swap values between variables in a single line of code.\n",
                "\n",
                "Here's an example of using double assignment to swap values between variables:\n",
                "\n",
                "```python\n",
                "a = 5\n",
                "b = 3\n",
                "\n",
                "a, b = b, a\n",
                "\n",
                "print(a)  # Output: 3\n",
                "print(b)  # Output: 5\n",
                "```\n",
                "\n",
                "In this example, the values of `a` and `b` are swapped using double assignment, allowing you to perform the operation in a single line of code.\n",
                "\n"
            ]
        },
        {
            "cell_type": "code",
            "execution_count": 46,
            "metadata": {},
            "outputs": [
                {
                    "name": "stdout",
                    "output_type": "stream",
                    "text": [
                        "x: 10\n"
                    ]
                }
            ],
            "source": [
                "# Chained assignment\n",
                "x = y = 10\n",
                "print(\"x:\", x)  # Output: 10"
            ]
        },
        {
            "cell_type": "code",
            "execution_count": 47,
            "metadata": {},
            "outputs": [
                {
                    "name": "stdout",
                    "output_type": "stream",
                    "text": [
                        "z: 15\n"
                    ]
                }
            ],
            "source": [
                "# Chained assignment with different values\n",
                "x = 5\n",
                "y = 10\n",
                "\n",
                "z = x + y\n",
                "print(\"z:\", z)  # Output: 15"
            ]
        },
        {
            "cell_type": "code",
            "execution_count": 48,
            "metadata": {},
            "outputs": [
                {
                    "name": "stdout",
                    "output_type": "stream",
                    "text": [
                        "z: 20\n"
                    ]
                }
            ],
            "source": [
                "# Chained assignment with the same value\n",
                "x = y = 10\n",
                "z = x + y\n",
                "print(\"z:\", z)  # Output: 20"
            ]
        },
        {
            "cell_type": "code",
            "execution_count": 49,
            "metadata": {},
            "outputs": [
                {
                    "name": "stdout",
                    "output_type": "stream",
                    "text": [
                        "a: 5\n"
                    ]
                }
            ],
            "source": [
                "# Multiple assignment\n",
                "a, b, c = 5, 3.2, \"Hello\"\n",
                "print(\"a:\", a)  # Output: 5"
            ]
        },
        {
            "cell_type": "code",
            "execution_count": 50,
            "metadata": {},
            "outputs": [
                {
                    "name": "stdout",
                    "output_type": "stream",
                    "text": [
                        "a: 10\n",
                        "b: 5\n"
                    ]
                }
            ],
            "source": [
                "# Swapping variables\n",
                "a = 5\n",
                "b = 10\n",
                "\n",
                "a, b = b, a\n",
                "print(\"a:\", a)  # Output: 10\n",
                "print(\"b:\", b)  # Output: 5\n"
            ]
        },
        {
            "cell_type": "markdown",
            "metadata": {},
            "source": [
                "### Using the `print()` Function\n",
                "\n",
                "The `print()` function is used to display output to the user, making it easier to understand and interact with a program. In Python, the `print()` function can be used to display text, variables, and the results of expressions.\n",
                "\n",
                "Here are some common use cases for the `print()` function in Python:\n",
                "\n",
                "- **Displaying Text**: The `print()` function can be used to display text to the user, making it easier to understand the purpose and functionality of a program.\n",
                "\n",
                "- **Displaying Variables**: The `print()` function can be used to display the values of variables, making it easier to understand the state of a program at a specific point in time.\n",
                "\n",
                "- **Displaying Expressions**: The `print()` function can be used to display the results of expressions, making it easier to understand the output of a program.\n",
                "\n",
                "\n",
                "\n",
                "By using the `print()` function, you can create more expressive and interactive programs that are easier to understand and maintain.\n",
                "\n"
            ]
        },
        {
            "cell_type": "code",
            "execution_count": 51,
            "metadata": {},
            "outputs": [
                {
                    "name": "stdout",
                    "output_type": "stream",
                    "text": [
                        "Hello, World!\n",
                        "8\n",
                        "3 + 5\n",
                        "35\n",
                        "3 5\n",
                        "3 5\n",
                        "3 5\n",
                        "3 + 5\n",
                        "3 + 5 =  8\n"
                    ]
                }
            ],
            "source": [
                "print(\"Hello, World!\") # Output: Hello, World!\n",
                "print(3 + 5) # Output: 8\n",
                "print(\"3 + 5\") # Output: 3 + 5\n",
                "print(\"3\" + \"5\") # Output: 35\n",
                "print(3, 5) # Output: 3 5\n",
                "print(\"3\", \"5\") # Output: 3 5\n",
                "print(\"3\" + \" \" + \"5\") # Output: 3 5\n",
                "print(\"3\" + \" + \" + \"5\") # Output: 3 + 5\n",
                "print(\"3 + 5 = \", 3 + 5) # Output: 3 + 5 = 8"
            ]
        },
        {
            "cell_type": "markdown",
            "metadata": {},
            "source": [
                "The `print()` function in Python is used to display output to the user. It can be used to display text, variables, and the results of expressions.\n",
                "\n",
                "By default, the `print()` function separates multiple arguments with a space and adds a newline character at the end. However, you can customize this behavior using the `sep` and `end` parameters.\n",
                "\n",
                "- **`sep` parameter**: The `sep` parameter is used to specify the separator between multiple arguments passed to the `print()` function. By default, `sep` is set to a space character. You can change it to any string value.\n",
                "\n",
                "- **`end` parameter**: The `end` parameter is used to specify the character(s) to be appended at the end of the printed output. By default, `end` is set to a newline character (`\\n`). You can change it to any string value.\n",
                "\n",
                "Here's an example that demonstrates the usage of `sep` and `end` parameters:\n",
                "\n",
                "```python\n",
                "print(\"Hello\", \"Python\", sep=\", \", end=\"!\\n\")\n",
                "```\n",
                "\n",
                "In this example, the `print()` function displays the text \"Hello, Python!\" with a comma and space as the separator and an exclamation mark as the end character.\n",
                "\n",
                "By using the `sep` and `end` parameters, you can customize the behavior of the `print()` function to create more expressive and interactive output.\n",
                "\n"
            ]
        },
        {
            "cell_type": "code",
            "execution_count": 53,
            "metadata": {},
            "outputs": [
                {
                    "name": "stdout",
                    "output_type": "stream",
                    "text": [
                        "1 2 3 4 5\n",
                        "12345\n",
                        "1 2 3 4 5\n",
                        "1:2:3:4:5\n",
                        "1-----2-----3-----4-----5\n"
                    ]
                }
            ],
            "source": [
                "# Print sep examples\n",
                "\n",
                "print(1, 2, 3, 4, 5)  # Output: 1 2 3 4 5\n",
                "print(1, 2, 3, 4, 5, sep=\"\")  # Output: 12345\n",
                "print(1, 2, 3, 4, 5, sep=\" \")  # Output: 1 2 3 4 5\n",
                "print(1, 2, 3, 4, 5, sep=\":\")  # Output: 1:2:3:4:5\n",
                "print(1, 2, 3, 4, 5, sep=\"-----\")  # Output: 1-----2-----3-----4-----5"
            ]
        },
        {
            "cell_type": "code",
            "execution_count": 58,
            "metadata": {},
            "outputs": [
                {
                    "name": "stdout",
                    "output_type": "stream",
                    "text": [
                        "Hello, World!\n"
                    ]
                }
            ],
            "source": [
                "# Print end examples\n",
                "\n",
                "print(\"Hello, \", end=\"\")\n",
                "print(\"World!\")  # Output: Hello, World!"
            ]
        },
        {
            "cell_type": "code",
            "execution_count": 59,
            "metadata": {},
            "outputs": [
                {
                    "name": "stdout",
                    "output_type": "stream",
                    "text": [
                        "Hello, ***World!\n"
                    ]
                }
            ],
            "source": [
                "print(\"Hello, \", end=\"***\")\n",
                "print(\"World!\")  # Output: Hello, ***World!"
            ]
        },
        {
            "cell_type": "code",
            "execution_count": 60,
            "metadata": {},
            "outputs": [
                {
                    "name": "stdout",
                    "output_type": "stream",
                    "text": [
                        "Hello, ***World!***"
                    ]
                }
            ],
            "source": [
                "print(\"Hello, \", end=\"***\")\n",
                "print(\"World!\", end=\"***\")  # Output: Hello, ***World!***"
            ]
        },
        {
            "cell_type": "code",
            "execution_count": 61,
            "metadata": {},
            "outputs": [
                {
                    "name": "stdout",
                    "output_type": "stream",
                    "text": [
                        "Hello, World!***"
                    ]
                }
            ],
            "source": [
                "print(\"Hello, \", end=\"\")\n",
                "print(\"World!\", end=\"***\")  # Output: Hello, World!***"
            ]
        },
        {
            "cell_type": "code",
            "execution_count": 56,
            "metadata": {},
            "outputs": [
                {
                    "name": "stdout",
                    "output_type": "stream",
                    "text": [
                        "1***2***3***4***5---"
                    ]
                }
            ],
            "source": [
                "# Print with both sep and end\n",
                "\n",
                "print(1, 2, 3, 4, 5, sep=\"***\", end=\"---\")  # Output: 1***2***3***4***5---"
            ]
        },
        {
            "cell_type": "code",
            "execution_count": 57,
            "metadata": {},
            "outputs": [
                {
                    "name": "stdout",
                    "output_type": "stream",
                    "text": [
                        "Hello, World!\n"
                    ]
                }
            ],
            "source": [
                "print(\"Hello, \", end=\"\")\n",
                "print(\"World!\")  # Output: Hello, World!"
            ]
        },
        {
            "cell_type": "markdown",
            "metadata": {},
            "source": [
                "# Conclusion 🌟\n",
                "\n",
                "This module has provided an introduction to the core building blocks of Python programming, including objects and variables, numbers, strings, boolean values, and input from the keyboard. By understanding these fundamental concepts, you are now equipped to start solving problems with Python effectively.\n",
                "\n",
                "In the next module, we'll explore more advanced programming techniques, including conditional statements, looping constructs, and functions, which will allow you to create more expressive and flexible code.\n",
                "\n",
                "I hope you enjoyed this module and found it helpful. If you have any questions or feedback, please feel free to reach out. Happy learning! 🌟"
            ]
        },
        {
            "cell_type": "markdown",
            "metadata": {},
            "source": [
                "\n",
                "# References 📚\n",
                "\n",
                "- [Python Documentation](https://docs.python.org/3/)\n",
                "- [Python Style Guide (PEP 8)](https://www.python.org/dev/peps/pep-0008/)\n",
                "- [Real Python](https://realpython.com/)\n",
                "- [W3Schools Python Tutorial](https://www.w3schools.com/python/)\n",
                "- [GeeksforGeeks Python Tutorial](https://www.geeksforgeeks.org/python-programming-language/)\n",
                "- [Programiz Python Tutorial](https://www.programiz.com/python-programming)\n"
            ]
        }
    ],
    "metadata": {
        "kernelspec": {
            "display_name": "Python 3",
            "language": "python",
            "name": "python3"
        },
        "language_info": {
            "codemirror_mode": {
                "name": "ipython",
                "version": 3
            },
            "file_extension": ".py",
            "mimetype": "text/x-python",
            "name": "python",
            "nbconvert_exporter": "python",
            "pygments_lexer": "ipython3",
            "version": "3.11.5"
        }
    },
    "nbformat": 4,
    "nbformat_minor": 4
}
