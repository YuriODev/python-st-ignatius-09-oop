{
    "cells": [
        {
            "cell_type": "markdown",
            "metadata": {},
            "source": [
                "# 1. OOP 📘\n",
                "\n",
                "# Notebook 1: Fundamentals of Object-Oriented Programming (OOP) 🚀\n",
                "\n",
                "1/3 notebooks to introduce you to the basics of OOP in Python. This notebook will cover the following topics:\n",
                "\n",
                "## What's Covered in This Module 📋\n",
                "\n",
                "- **Introduction to Object-Oriented Programming (OOP) 🌟**\n",
                "  - Explore the definition and significance of OOP in modern programming.\n",
                "  - Compare OOP with procedural programming to highlight advantages.\n",
                "  - Introduce core OOP concepts: Classes, Objects, Methods, Attributes.\n",
                "\n",
                "- **Benefits of Object-Oriented Programming 🚀**\n",
                "  - Discuss modularity, highlighting how OOP facilitates modular code development.\n",
                "  - Cover reusability, demonstrating how OOP principles encourage code reuse.\n",
                "  - Explain code readability and maintainability improvements through OOP.\n",
                "  - Introduce key OOP features: Encapsulation, Inheritance, Polymorphism.\n",
                "\n",
                "- **Classes and Objects 🛠**\n",
                "  - **Class Definition**\n",
                "    - Explain the structure and syntax for defining classes in Python.\n",
                "    - Discuss the purpose and usage of the `__init__` constructor method.\n",
                "    - Introduce the concept of a `FootballPlayer` class with attributes like `name` and `position`.\n",
                "  - **Object Instantiation**\n",
                "    - Guide on creating instances from a class (object instantiation).\n",
                "    - Demonstrate accessing attributes and methods on class instances.\n",
                "    - Provide an example of creating and interacting with a `FootballPlayer` object.\n",
                "\n",
                "- **Attributes and Methods 🔑**\n",
                "  - **Instance Variables**\n",
                "    - Detail instance variables and their role in defining object state.\n",
                "  - **Class Variables**\n",
                "    - Explain class variables and how they are shared across class instances.\n",
                "    - Use a class variable in the `FootballPlayer` class to demonstrate sharing data.\n",
                "  - **Methods in Depth**\n",
                "    - Elaborate on creating and using instance, class, and static methods.\n",
                "    - Highlight the importance of the `self` parameter in instance methods.\n",
                "    - Extend the `FootballPlayer` class with methods like `score_goal` to showcase method usage.\n",
                "\n",
                "- **Encapsulation 🛡**\n",
                "  - **Understanding Encapsulation**\n",
                "    - Discuss the concept of encapsulating data within an object.\n",
                "    - Explain the distinction between public, protected and private attributes.\n",
                "  - **Implementing Encapsulation**\n",
                "    - Introduce property decorators for creating getter and setter methods.\n",
                "    - Apply encapsulation in the `FootballPlayer` class to manage `age` attribute access securely.\n",
                "\n",
                "- **Getters and Setters**\n",
                "  - **Using Getters and Setters**\n",
                "    - Discuss why getters and setters are important for data encapsulation and validation.\n",
                "    - Implement getters and setters in the `FootballPlayer` class to control access to private attributes like `__salary`.\n",
                "\n",
                "- **Inheritance (Preview) 🌱**\n",
                "  - Provide a brief overview of inheritance as an introduction to the next notebook.\n",
                "  - Highlight the concept of deriving new classes from existing ones to extend or modify functionality.\n",
                "\n",
                "- **Conclusion and Next Steps 🔜**\n",
                "  - Summarize the foundational concepts of OOP covered in this notebook.\n",
                "  - Tease upcoming topics such as deeper dives into Inheritance, Polymorphism, and advanced OOP features.\n",
                "\n",
                "This outline ensures a thorough introduction to OOP with Python, using both theoretical explanations and practical examples. Each section builds on the previous to deepen understanding, preparing learners for more advanced topics in subsequent notebooks.\n"
            ]
        },
        {
            "cell_type": "markdown",
            "metadata": {},
            "source": [
                "# 1. Introduction to Object-Oriented Programming (OOP) 🌟\n",
                "\n",
                "**Object-Oriented Programming (OOP)** is a fundamental programming concept that organizes software design around data, or objects, rather than functions and logic. An object can be defined as a data field that has unique attributes and behavior. OOP focuses on the objects that developers want to manipulate rather than the logic required to manipulate them. This approach to programming is significant for several reasons:"
            ]
        },
        {
            "cell_type": "markdown",
            "metadata": {},
            "source": [
                "## Defining OOP\n",
                "\n",
                "OOP stands out for its ability to model real-world entities and relationships, making it an essential tool for building complex and scalable software systems. By encapsulating data and operations on data within objects, OOP facilitates:\n",
                "- **Modularity:** The source code for an object can be written and maintained independently of the source code for other objects. This allows for a more modular and understandable code structure.\n",
                "- **Reusability:** Objects are often reusable across different programs. By using OOP principles, you can significantly reduce the effort required to develop and maintain software.\n",
                "- **Pluggability and Debugging Ease:** If a particular object turns out to be problematic, it can be removed and replaced with a better object without affecting other parts of the program.\n",
                "\n",
                "In contrast to procedural programming, where the main emphasis is on functions, OOP focuses on the entities (objects) and their interactions. This approach provides a clear modular structure for programs which makes it good for defining abstract data types, where implementation details are hidden, and the unit of manipulation is the object.\n",
                "\n",
                "<!-- Car image -->\n",
                "\n",
                "![Car Image](Car_oop_chart.png)"
            ]
        },
        {
            "cell_type": "markdown",
            "metadata": {},
            "source": [
                "## Comparing OOP with Procedural Programming\n",
                "\n",
                "OOP differs from procedural programming, which is centered around functions or procedures. Here are some advantages of OOP over procedural programming:\n",
                "\n",
                "- **Procedural programming** uses a top-down approach and focuses on the sequence of actions to be done. OOP, on the other hand, uses a bottom-up approach and focuses on the objects that are being manipulated.\n",
                "- **In procedural programming**, the program is divided into small parts called functions. In OOP, the program is divided into small parts called objects. OOP allows for clearer and more complex interactions compared to procedural programming.\n",
                "- **Maintenance and Scalability:** OOP makes the program easier to manage, modify, and scale over time compared to procedural programming, which can become more challenging to manage as the codebase grows.\n",
                "\n",
                "![OOP vs Procedural](procedural_vs_oop.png)"
            ]
        },
        {
            "cell_type": "markdown",
            "metadata": {},
            "source": [
                "## Core OOP Concepts\n",
                "\n",
                "The core concepts of OOP include:\n",
                "\n",
                "- **Classes and Objects:** Classes act as blueprints for creating objects, which are instances of classes.\n",
                "- **Attributes and Methods:** Attributes represent the data, while methods represent the operations that can be performed on the data.\n",
                "- **Encapsulation:** Encapsulation is the mechanism of hiding the internal state of an object and requiring all interaction to be performed through an object's methods.\n",
                "- **Inheritance:** Inheritance allows a new class to inherit attributes and methods of an existing class.\n",
                "- **Polymorphism:** Polymorphism allows objects of different classes to be treated as objects of a common superclass.\n",
                "\n",
                "These concepts facilitate the creation of flexible and modular software, making OOP a powerful tool for developers."
            ]
        },
        {
            "cell_type": "markdown",
            "metadata": {},
            "source": [
                "### Example of built-in classes in Python:\n",
                "\n",
                "Python has several built-in classes that demonstrate the core concepts of OOP. objects.\n",
                "\n",
                "For example, `int` is a class that represents integers, and you can create an instance of this class by calling `int()`:\n",
                "\n",
                "```python\n",
                "# Creating an instance of the int class\n",
                "num = int(10)\n",
                "```\n",
                "\n",
                "`String` is another built-in class in Python, and you can create an instance of this class by calling `str()`:\n",
                "\n",
                "```python\n",
                "# Creating an instance of the str class\n",
                "name = str(\"John\")\n",
                "```\n",
                "\n",
                "For example, the `list` class is a blueprint for creating list objects, which can store data and perform operations on the data. Similarly, the `str` class is a blueprint for creating string objects, and the `dict` class is a blueprint for creating dictionary objects.\n",
                "\n",
                "Previously, we mentioned method for `list` class objects such as `append`, `remove`, `sort`, etc. These methods are used to perform operations on list objects. Similarly, the `str` class has methods like `upper`, `lower`, `replace`, etc., to perform operations on string objects."
            ]
        },
        {
            "cell_type": "markdown",
            "metadata": {},
            "source": [
                "![OOP Infographics](oop_infographics.png)"
            ]
        },
        {
            "cell_type": "markdown",
            "metadata": {},
            "source": [
                "# 2. Benefits of Object-Oriented Programming (OOP) 🚀\n",
                "\n",
                "**Object-Oriented Programming (OOP)** stands out in the world of software development for its ability to organize and manage code in a way that enhances modularity, reusability, and maintainability. Here's a deeper dive into the benefits that make **OOP** a preferred approach for developers.\n"
            ]
        },
        {
            "cell_type": "markdown",
            "metadata": {},
            "source": [
                "## Modularity 🧩\n",
                "\n",
                "OOP champions the concept of modularity, where software is built using distinct, interchangeable components or objects. This design principle is akin to constructing a building using prefabricated modules, where each module can be developed, tested, and maintained independently.\n",
                "\n",
                "- **Benefits of Modularity:**\n",
                "  - Simplifies complex systems by breaking them down into manageable units.\n",
                "  - Enhances collaboration, as different teams can work on separate modules simultaneously.\n",
                "  - Improves fault isolation, making it easier to diagnose and fix issues without impacting other parts of the system.\n",
                "\n",
                "![OOP Infographics](modularity_oop.png)"
            ]
        },
        {
            "cell_type": "markdown",
            "metadata": {},
            "source": [
                "The diagram is structured into several modules, each representing different aspects of a football club's operation:\n",
                "\n",
                "- **Player Management**: This module focuses on the individual management of players, including financial aspects and healthcare. It includes `FootballPlayer`, `Finance`, and `HealthCare` as sub-components, highlighting the comprehensive care and management of players.\n",
                "\n",
                "- **Team Operations**: This module deals with broader team management and operations. It encompasses `TeamManagement`, `Scouting`, and `MediaRelations`, indicating the team's strategic, talent scouting, and public relations activities.\n",
                "\n",
                "- **Performance & Logistics**: Focused on the physical and logistical aspects of the team's performance, this module includes `MatchStatistics`, `TrainingSchedule`, and `Equipment`. It suggests a focus on analyzing match outcomes, planning training, and managing the necessary equipment for optimal performance.\n",
                "\n",
                "By presenting the football club's structure in this modular way, the diagram aids in understanding how different parts of the organization interact and depend on each other, emphasizing the importance of modularity in managing complex systems efficiently.\n"
            ]
        },
        {
            "cell_type": "markdown",
            "metadata": {},
            "source": [
                "## Reusability ♻️\n",
                "\n",
                "One of the cornerstones of OOP is its emphasis on reusability, enabling developers to repurpose existing objects and classes across various projects. This approach is similar to using a library of standard parts when building new machines.\n",
                "\n",
                "- **Advantages of Reusability:**\n",
                "  - Significantly reduces development time and costs.\n",
                "  - Encourages the creation of a well-tested and reliable codebase.\n",
                "  - Facilitates the sharing of libraries and frameworks within the developer community."
            ]
        },
        {
            "cell_type": "markdown",
            "metadata": {},
            "source": [
                "## Code Readability and Maintainability 📖\n",
                "\n",
                "OOP structures code around objects, each encapsulating its data and behaviors. This organization mirrors real-world interactions, making OOP code more intuitive to understand and modify.\n",
                "\n",
                "- **Impact on Readability and Maintainability:**\n",
                "  - Code organized in classes and objects is easier to navigate and understand.\n",
                "  - OOP principles like encapsulation and inheritance promote clean code practices.\n",
                "  - Regular updates and enhancements become more manageable, ensuring the long-term health of the software."
            ]
        },
        {
            "cell_type": "markdown",
            "metadata": {},
            "source": [
                "## Core OOP Features 🌟\n",
                "\n",
                "OOP is not just beneficial for its design philosophy but also for the powerful features it introduces:\n",
                "\n",
                "- **Encapsulation:** Encapsulation safeguards an object's internal state by exposing only what's necessary through well-defined interfaces, akin to how a capsule protects its contents.\n",
                "\n",
                "- **Inheritance:** Inheritance fosters a hierarchical organization of classes, enabling the creation of specialized subclasses from general superclasses. This feature streamlines code reuse and extension.\n",
                "\n",
                "- **Polymorphism:** Polymorphism allows for the treatment of objects from different classes through a common interface, enhancing flexibility in code execution and interaction.\n",
                "\n",
                "- **Abstraction:** Abstraction focuses on the essential qualities of an object, hiding its complex implementation details. This feature simplifies the handling of objects by emphasizing what they do rather than how they do it.\n",
                "\n",
                "These OOP features, together with its benefits, underscore why Object-Oriented Programming remains a fundamental approach in software development, facilitating the creation of robust, scalable, and maintainable applications.\n",
                "\n",
                "![OOP Infographics](https://codingnomads.com/images/3e059173-16b0-4f2b-4ea0-babf04d03d00/public)"
            ]
        },
        {
            "cell_type": "markdown",
            "metadata": {},
            "source": [
                "# 3. Classes and Objects 🛠\n",
                "\n",
                "In object-oriented programming (OOP), **classes** are blueprints for creating **objects**. A class defines a set of attributes and methods that characterize any object of that class. **Objects** are instances of classes; they encapsulate data for specific entities based on the class definitions."
            ]
        },
        {
            "cell_type": "markdown",
            "metadata": {},
            "source": [
                "## Class Definition\n",
                "\n",
                "A class in Python is defined using the `class` keyword, followed by the class name and a colon. Inside the class, methods are defined, which are functions that operate on objects of the class.\n",
                "\n",
                "The `__init__` method is a special method called a constructor, which Python calls when you create a new instance of the class. It's used to initialize the object's state, with any initial attributes the object should have when it's created.\n"
            ]
        },
        {
            "cell_type": "markdown",
            "metadata": {},
            "source": [
                "### Example: Defining a FootballPlayer Class\n",
                "\n",
                "Let's define a simple `FootballPlayer` class with attributes like `name` and `position`."
            ]
        },
        {
            "cell_type": "code",
            "execution_count": 2,
            "metadata": {},
            "outputs": [],
            "source": [
                "class FootballPlayer:\n",
                "    def __init__(self, name: str, position: str):\n",
                "        self.name = name\n",
                "        self.position = position\n",
                "\n",
                "    def display_info(self) -> None:\n",
                "        print(f\"{self.name} plays as {self.position}.\")"
            ]
        },
        {
            "cell_type": "markdown",
            "metadata": {},
            "source": [
                "In this example, the `FootballPlayer` class has two attributes: `name` and `position`. The `__init__` method initializes these attributes when a new `FootballPlayer` object is created. The `display_info` method prints the player's name and position.\n",
                "\n",
                "Specifically, the `__init__` method takes three parameters: `self`, `name`, and `position`. The `self` parameter is a reference to the current instance of the class, and it's used to access variables that belong to the class. The `name` and `position` parameters are used to initialize the `FootballPlayer` object's `name` and `position` attributes."
            ]
        },
        {
            "cell_type": "markdown",
            "metadata": {},
            "source": [
                "## Object Instantiation\n",
                "\n",
                "To create an object (instance) of a class, you simply call the class using its name followed by parentheses, passing any arguments that the `__init__` method requires. Once an object is created, you can access its attributes and call its methods."
            ]
        },
        {
            "cell_type": "markdown",
            "metadata": {},
            "source": [
                "### Example: Creating and Interacting with a FootballPlayer Object\n",
                "\n",
                "Let's create a `FootballPlayer` object and interact with it by calling its `display_info` method."
            ]
        },
        {
            "cell_type": "code",
            "execution_count": 3,
            "metadata": {},
            "outputs": [
                {
                    "name": "stdout",
                    "output_type": "stream",
                    "text": [
                        "Lionel Messi plays as forward.\n"
                    ]
                }
            ],
            "source": [
                "# Creating a FootballPlayer object\n",
                "player = FootballPlayer(\"Lionel Messi\", \"forward\")\n",
                "\n",
                "# Calling the display_info method of our object\n",
                "player.display_info()  # Output: Lionel Messi plays as forward."
            ]
        },
        {
            "cell_type": "markdown",
            "metadata": {},
            "source": [
                "In this example, we create a `FootballPlayer` object called `player` with the name \"Lionel Messi\" and the position \"forward\". We then call the `display_info` method of the `player` object, which prints \"Lionel Messi plays as forward.\""
            ]
        },
        {
            "cell_type": "markdown",
            "metadata": {},
            "source": [
                "# 4. Attributes and Methods 🔑\n",
                "\n",
                "Attributes and methods are the core components of classes in Python. **Attributes** represent the data, while **methods** represent the functionality of class objects. Let's dive deeper into instance variables, class variables, and methods."
            ]
        },
        {
            "cell_type": "markdown",
            "metadata": {},
            "source": [
                "## Instance Variables\n",
                "\n",
                "**Instance variables** are variables defined within a method and belong to the instance of the class. Each object has its own copy of the instance variable."
            ]
        },
        {
            "cell_type": "markdown",
            "metadata": {},
            "source": [
                "### Example: Defining and Using Instance Variables\n",
                "\n",
                "We'll extend our `FootballPlayer` class by adding an instance variable `age`."
            ]
        },
        {
            "cell_type": "code",
            "execution_count": 4,
            "metadata": {},
            "outputs": [
                {
                    "name": "stdout",
                    "output_type": "stream",
                    "text": [
                        "Lionel Messi, a forward, is 34 years old.\n"
                    ]
                }
            ],
            "source": [
                "class FootballPlayer:\n",
                "    def __init__(self, name: str, position: str, age: int):\n",
                "        self.name = name\n",
                "        self.position = position\n",
                "        self.age = age  # Instance variable\n",
                "\n",
                "    def display_info(self) -> None:\n",
                "        print(f\"{self.name}, a {self.position}, is {self.age} years old.\")\n",
                "\n",
                "# Creating a FootballPlayer object with age\n",
                "player = FootballPlayer(\"Lionel Messi\", \"forward\", 34)\n",
                "player.display_info()\n"
            ]
        },
        {
            "cell_type": "markdown",
            "metadata": {},
            "source": [
                "In this example, the `FootballPlayer` class has a new attribute `age`, which is an instance variable. When we create a `FootballPlayer` object, we pass the `age` as an argument to the `__init__` method. The `display_info` method is updated to include the player's age."
            ]
        },
        {
            "cell_type": "markdown",
            "metadata": {},
            "source": [
                "## Class Variables\n",
                "\n",
                "**Class variables** are shared across all instances of a class. They are defined within the class but outside any methods."
            ]
        },
        {
            "cell_type": "markdown",
            "metadata": {},
            "source": [
                "### Example: Using a Class Variable\n",
                "\n",
                "We'll introduce a class variable `team_name` to our `FootballPlayer` class to demonstrate how data can be shared."
            ]
        },
        {
            "cell_type": "code",
            "execution_count": 10,
            "metadata": {},
            "outputs": [
                {
                    "name": "stdout",
                    "output_type": "stream",
                    "text": [
                        "FC Barcelona\n"
                    ]
                }
            ],
            "source": [
                "class FootballPlayer:\n",
                "\n",
                "    team_name = \"FC Barcelona\"  # Class variable\n",
                "\n",
                "    def __init__(self, name: str, position: str, age: int):\n",
                "        self.name = name\n",
                "        self.position = position\n",
                "        self.age = age  # Instance variable\n",
                "\n",
                "    def display_info(self) -> None:\n",
                "        print(f\"{self.name} plays as {self.position} for {self.team_name}.\")\n",
                "\n",
                "# Accessing class variable\n",
                "print(FootballPlayer.team_name)"
            ]
        },
        {
            "cell_type": "markdown",
            "metadata": {},
            "source": [
                "- In this example, the `FootballPlayer` class has a class variable `team_name`, which is shared across all instances of the class. We access the class variable using the class name `FootballPlayer` followed by a dot and the variable name `team_name`."
            ]
        },
        {
            "cell_type": "code",
            "execution_count": 11,
            "metadata": {},
            "outputs": [
                {
                    "name": "stdout",
                    "output_type": "stream",
                    "text": [
                        "Lionel Messi plays as forward for FC Barcelona.\n",
                        "Neymar Jr plays as forward for FC Barcelona.\n"
                    ]
                }
            ],
            "source": [
                "player1 = FootballPlayer(\"Lionel Messi\", \"forward\", 34)\n",
                "player2 = FootballPlayer(\"Neymar Jr\", \"forward\", 29)\n",
                "\n",
                "player1.display_info()\n",
                "player2.display_info()"
            ]
        },
        {
            "cell_type": "markdown",
            "metadata": {},
            "source": [
                "- We access the class variable using the class name `FootballPlayer` followed by a dot and the variable name `team_name`.\n",
                "- When we create `player1` and `player2` objects, they share the `team_name` class variable.\n",
                "\n"
            ]
        },
        {
            "cell_type": "code",
            "execution_count": 12,
            "metadata": {},
            "outputs": [
                {
                    "name": "stdout",
                    "output_type": "stream",
                    "text": [
                        "Neymar Jr plays as forward for Paris Saint-Germain.\n",
                        "Lionel Messi plays as forward for FC Barcelona.\n"
                    ]
                }
            ],
            "source": [
                "player2.team_name = \"Paris Saint-Germain\"\n",
                "player2.display_info()\n",
                "player1.display_info()"
            ]
        },
        {
            "cell_type": "markdown",
            "metadata": {},
            "source": [
                "- We change the `team_name` class variable for the `player2` object to \"Paris Saint-Germain\" using the dot notation.\n",
                "- We then call the `display_info` method for both `player1` and `player2` objects, which prints the updated `team_name` for `player2` and the original `team_name` for `player1`.\n",
                "\n"
            ]
        },
        {
            "cell_type": "markdown",
            "metadata": {},
            "source": [
                "## Class Variables with Mutable vs. Immutable Types\n",
                "\n",
                "Class variables can be both mutable and immutable types. The behavior of class variables changes significantly depending on the type used. Let's explore this with `team_name` (immutable string) and `teams` (mutable list) as class variables.\n"
            ]
        },
        {
            "cell_type": "code",
            "execution_count": 30,
            "metadata": {},
            "outputs": [],
            "source": [
                "class FootballPlayer:\n",
                "    team_name = \"FC Barcelona\"  # Immutable\n",
                "    teams = [team_name]  # Mutable\n",
                "\n",
                "    def __init__(self, name: str, position: str, age: int):\n",
                "        self.name = name\n",
                "        self.position = position\n",
                "        self.age = age\n",
                "\n",
                "    def display_info(self) -> None:\n",
                "        print(f\"{self.name}, a {self.position}, aged {self.age}, has played for {self.teams}.\")\n"
            ]
        },
        {
            "cell_type": "markdown",
            "metadata": {},
            "source": [
                "- The `team_name` class variable is an immutable string, and the `teams` class variable is a mutable list. We initialize the `teams` list with the `team_name` class variable."
            ]
        },
        {
            "cell_type": "code",
            "execution_count": 31,
            "metadata": {},
            "outputs": [
                {
                    "name": "stdout",
                    "output_type": "stream",
                    "text": [
                        "Lionel Messi, a Forward, aged 34, has played for ['FC Barcelona'].\n"
                    ]
                }
            ],
            "source": [
                "# Demonstrating the effect of mutable class variable\n",
                "player1 = FootballPlayer(\"Lionel Messi\", \"Forward\", 34)\n",
                "player1.display_info()"
            ]
        },
        {
            "cell_type": "markdown",
            "metadata": {},
            "source": [
                "- We create a `player1` object with the name \"Lionel Messi\", position \"forward\", and age 34. We then call the `display_info` method for the `player1` object, which prints the `team_name` and `teams` for `player1`."
            ]
        },
        {
            "cell_type": "code",
            "execution_count": 33,
            "metadata": {},
            "outputs": [
                {
                    "name": "stdout",
                    "output_type": "stream",
                    "text": [
                        "Lionel Messi, a Forward, aged 34, has played for ['FC Barcelona'].\n",
                        "Neymar Jr, a Forward, aged 29, has played for ['FC Barcelona'].\n"
                    ]
                }
            ],
            "source": [
                "player2 = FootballPlayer(\"Neymar Jr\", \"Forward\", 29)\n",
                "\n",
                "player1.display_info()\n",
                "player2.display_info()"
            ]
        },
        {
            "cell_type": "markdown",
            "metadata": {},
            "source": [
                "- We create a `player2` object with the name \"Neymar Jr\", position \"forward\", and age 29. We then call the `display_info` method for the `player2` object, which prints the `team_name` and `teams` for `player2`.\n",
                "- Information about the `team_name` and `teams` is printed for both `player1` and `player2` objects, demonstrating the behavior of class variables with mutable and immutable types."
            ]
        },
        {
            "cell_type": "code",
            "execution_count": 38,
            "metadata": {},
            "outputs": [
                {
                    "name": "stdout",
                    "output_type": "stream",
                    "text": [
                        "Lionel Messi plays for FC Barcelona\n",
                        "Neymar Jr plays for Paris Saint-Germain\n"
                    ]
                }
            ],
            "source": [
                "player2.team_name = \"Paris Saint-Germain\"\n",
                "\n",
                "print(f\"{player1.name} plays for {player1.team_name}\")\n",
                "print(f\"{player2.name} plays for {player2.team_name}\")"
            ]
        },
        {
            "cell_type": "markdown",
            "metadata": {},
            "source": [
                "- We update the `team_name` class variable for the `player2` object to \"Paris Saint-Germain\" using the dot notation.\n",
                "- We then print `team_name` for both `player1` and `player2` objects, which prints the updated `team_name` for `player2` and the original `team_name` for `player1`.\n"
            ]
        },
        {
            "cell_type": "code",
            "execution_count": 37,
            "metadata": {},
            "outputs": [
                {
                    "name": "stdout",
                    "output_type": "stream",
                    "text": [
                        "Lionel Messi, a Forward, aged 34, has played for ['FC Barcelona', 'Paris Saint-Germain'].\n",
                        "Neymar Jr, a Forward, aged 29, has played for ['FC Barcelona', 'Paris Saint-Germain'].\n"
                    ]
                }
            ],
            "source": [
                "player2.teams.append(player2.team_name)\n",
                "\n",
                "player1.display_info()\n",
                "player2.display_info()"
            ]
        },
        {
            "cell_type": "markdown",
            "metadata": {},
            "source": [
                "- The `team_name` class variable is an immutable string, and the `teams` class variable is a mutable list. We initialize the `teams` list with the `team_name` class variable.\n",
                "- Information about the `team_name` and `teams` is printed for both `player1` and `player2` objects, demonstrating the behavior of class variables with mutable and immutable types. \n",
                "- `teams` is shared across all instances of the class, while `team_name` is unique to each instance.\n"
            ]
        },
        {
            "cell_type": "markdown",
            "metadata": {},
            "source": [
                "### Explanation\n",
                "\n",
                "- **Immutable Class Variables**: Changing the value of an immutable class variable like `team_name` using the class name does not affect the instances created before the change. Each instance retains the value of `team_name` from when it was created.\n",
                "\n",
                "- **Mutable Class Variables**: Modifying a mutable class variable like `teams` affects all instances of the class. Since lists are mutable, appending a team to `teams` reflects across all `FootballPlayer` instances, showcasing shared state behavior."
            ]
        },
        {
            "cell_type": "markdown",
            "metadata": {},
            "source": [
                "## Methods in Depth\n",
                "\n",
                "Methods in Python classes can be categorized into three types: **instance methods**, **class methods**, and **static methods**. Let's explore each with examples.\n"
            ]
        },
        {
            "cell_type": "markdown",
            "metadata": {},
            "source": [
                "### Instance Methods\n",
                "\n",
                "Instance methods operate on an instance of the class and have access to instance variables through the `self` parameter. It refers to the instance of the class and is used to access variables that belong to the class (inside the class)."
            ]
        },
        {
            "cell_type": "markdown",
            "metadata": {},
            "source": [
                "#### Example: Adding a `score_goal` Method\n",
                "\n",
                "Let's add a method to our `FootballPlayer` class that updates a scoring record for a player."
            ]
        },
        {
            "cell_type": "code",
            "execution_count": 39,
            "metadata": {},
            "outputs": [],
            "source": [
                "class FootballPlayer:\n",
                "    team_name: str = \"Paris Saint-Germain\"\n",
                "    \n",
                "    def __init__(self, name: str, position: str, age: int, goals: int = 0) -> None:\n",
                "        self.name = name\n",
                "        self.position = position\n",
                "        self.age = age\n",
                "        self.goals = goals  # New instance variable\n",
                "\n",
                "    def score_goal(self, goals: int = 1) -> None:\n",
                "        self.goals += goals\n",
                "        print(f\"{self.name} has scored {self.goals} goal(s)!\")"
            ]
        },
        {
            "cell_type": "markdown",
            "metadata": {},
            "source": [
                "- We define a new method `score_goal` that takes an optional `goals` parameter, which defaults to 1.\n",
                "- Inside the method, we update the `goals` instance variable by adding the `goals` parameter to it.\n",
                "- We then print a message indicating the player's name and the updated number of goals."
            ]
        },
        {
            "cell_type": "code",
            "execution_count": 40,
            "metadata": {},
            "outputs": [
                {
                    "name": "stdout",
                    "output_type": "stream",
                    "text": [
                        "Lionel Messi has scored 3 goal(s)!\n"
                    ]
                }
            ],
            "source": [
                "# Creating and using instance method\n",
                "messi = FootballPlayer(\"Lionel Messi\", \"forward\", 34)\n",
                "messi.score_goal(3)"
            ]
        },
        {
            "cell_type": "code",
            "execution_count": 41,
            "metadata": {},
            "outputs": [
                {
                    "data": {
                        "text/plain": [
                            "3"
                        ]
                    },
                    "execution_count": 41,
                    "metadata": {},
                    "output_type": "execute_result"
                }
            ],
            "source": [
                "messi.goals"
            ]
        },
        {
            "cell_type": "markdown",
            "metadata": {},
            "source": [
                "- We create a `FootballPlayer` object `messi` with the name \"Lionel Messi\", position \"forward\", and age 34.\n",
                "- We call the `score_goal` method for the `messi` object with the `goals` parameter set to 3.\n",
                "- We then access the `goals` instance variable for the `messi` object, which returns the updated number of goals."
            ]
        },
        {
            "cell_type": "code",
            "execution_count": 44,
            "metadata": {},
            "outputs": [
                {
                    "name": "stdout",
                    "output_type": "stream",
                    "text": [
                        "FC Real Madrid\n",
                        "FC Real Madrid\n",
                        "FC Real Madrid\n"
                    ]
                }
            ],
            "source": [
                "FootballPlayer.team_name = \"FC Real Madrid\"\n",
                "\n",
                "ronaldo = FootballPlayer(\"Cristiano Ronaldo\", \"forward\", 36)\n",
                "print(ronaldo.team_name)\n",
                "\n",
                "benzema = FootballPlayer(\"Karim Benzema\", \"forward\", 33)\n",
                "print(benzema.team_name)\n",
                "\n",
                "print(messi.team_name)"
            ]
        },
        {
            "cell_type": "markdown",
            "metadata": {},
            "source": [
                "- We change the `team_name` class variable for the `FootballPlayer` class to \"FC Real Madrid\" using the class name for **all instances**.\n",
                "- We create `ronaldo` and `benzema` objects, which share the updated `team_name` class variable.\n",
                "- We access the `team_name` class variable for the `messi` object, which also reflects the updated `team_name` for all instances."
            ]
        },
        {
            "cell_type": "markdown",
            "metadata": {},
            "source": [
                "### Class Methods and Static Methods\n",
                "\n",
                "**Class methods** are methods that operate on the class itself, not on instance objects. They are marked with the `@classmethod` decorator and take `cls` as the first parameter. \n",
                "\n",
                "**Static methods** do not take a specific instance or class parameter (`self` or `cls`). They are marked with the `@staticmethod` decorator and can be called on the class itself."
            ]
        },
        {
            "cell_type": "markdown",
            "metadata": {},
            "source": [
                "#### Example: Adding a Class Method and a Static Method\n",
                "\n",
                "We'll add a class method to update `team_name` and a static method to calculate the average age of players."
            ]
        },
        {
            "cell_type": "code",
            "execution_count": 49,
            "metadata": {},
            "outputs": [],
            "source": [
                "class FootballPlayer:\n",
                "    team_name = \"Paris Saint-Germain\"\n",
                "    total_age = 0\n",
                "    total_players = 0\n",
                "    \n",
                "    def __init__(self, name: str, position: str, age: int, goals: int = 0) -> None:\n",
                "        self.name = name\n",
                "        self.position = position\n",
                "        self.age = age\n",
                "        self.goals = goals\n",
                "        FootballPlayer.total_age += age\n",
                "        FootballPlayer.total_players += 1\n",
                "\n",
                "    def score_goal(self, goals: int = 1) -> None:\n",
                "        self.goals += goals\n",
                "        print(f\"{self.name} has scored {self.goals} goal(s)!\")\n",
                "        \n",
                "    @classmethod\n",
                "    def update_team_name(cls, new_name: str) -> None:\n",
                "        cls.team_name = new_name\n",
                "        print(f\"Updated team name to {cls.team_name}\")\n",
                "        \n",
                "    @staticmethod\n",
                "    def calculate_average_age() -> float:\n",
                "        return FootballPlayer.total_age / FootballPlayer.total_players if FootballPlayer.total_players > 0 else 0"
            ]
        },
        {
            "cell_type": "markdown",
            "metadata": {},
            "source": [
                "- We define a class method `update_team_name` that takes a `new_name` parameter and updates the `team_name` class variable. We then print a message indicating the updated team name.\n",
                "- We define a static method `calculate_average_age` that calculates the average age of all players. We return the average age if there are players, or 0 if there are no players.\n",
                "- `total_players` is a class variable that keeps track of the number of players created."
            ]
        },
        {
            "cell_type": "code",
            "execution_count": 46,
            "metadata": {},
            "outputs": [
                {
                    "name": "stdout",
                    "output_type": "stream",
                    "text": [
                        "Updated team name to FC Barcelona\n"
                    ]
                }
            ],
            "source": [
                "# Using class method\n",
                "FootballPlayer.update_team_name(\"FC Barcelona\")"
            ]
        },
        {
            "cell_type": "markdown",
            "metadata": {},
            "source": [
                "- Using class method we have set the team name for all the players. **For all instances** of the class, the `team_name` has been updated to **\"FC Barcelona\"**.\n"
            ]
        },
        {
            "cell_type": "code",
            "execution_count": 51,
            "metadata": {},
            "outputs": [
                {
                    "name": "stdout",
                    "output_type": "stream",
                    "text": [
                        "Lionel Messi has scored 3 goal(s)!\n",
                        "Neymar Jr has scored 2 goal(s)!\n"
                    ]
                }
            ],
            "source": [
                "# Creating and using instance method\n",
                "messi = FootballPlayer(\"Lionel Messi\", \"forward\", 34)\n",
                "messi.score_goal(3)\n",
                "\n",
                "neymar = FootballPlayer(\"Neymar Jr\", \"forward\", 29)\n",
                "neymar.score_goal(2)"
            ]
        },
        {
            "cell_type": "code",
            "execution_count": 52,
            "metadata": {},
            "outputs": [
                {
                    "name": "stdout",
                    "output_type": "stream",
                    "text": [
                        "Average age of players: 31.5\n"
                    ]
                }
            ],
            "source": [
                "# Using static method\n",
                "average_age = FootballPlayer.calculate_average_age()\n",
                "print(f\"Average age of players: {average_age}\")"
            ]
        },
        {
            "cell_type": "markdown",
            "metadata": {},
            "source": [
                "- The `average_age` variable stores the average age of all players, calculated using the static method `calculate_average_age`. The method returns the average age if there are players, or 0 if there are no players. Since we had 2 players, the average age is calculated and printed for Messi and Neymar."
            ]
        },
        {
            "cell_type": "code",
            "execution_count": 54,
            "metadata": {},
            "outputs": [
                {
                    "name": "stdout",
                    "output_type": "stream",
                    "text": [
                        "Updated team name to FC Real Madrid\n"
                    ]
                }
            ],
            "source": [
                "# Using class method\n",
                "FootballPlayer.update_team_name(\"FC Real Madrid\")"
            ]
        },
        {
            "cell_type": "markdown",
            "metadata": {},
            "source": [
                "Let's have a look at the team name assigned to the football players."
            ]
        },
        {
            "cell_type": "code",
            "execution_count": 55,
            "metadata": {},
            "outputs": [
                {
                    "name": "stdout",
                    "output_type": "stream",
                    "text": [
                        "FC Real Madrid\n",
                        "FC Real Madrid\n"
                    ]
                }
            ],
            "source": [
                "print(messi.team_name)\n",
                "print(neymar.team_name)"
            ]
        },
        {
            "cell_type": "markdown",
            "metadata": {},
            "source": [
                "As we can see, the team name for all the players has been updated to **\"FC Real Madrid\"** using the class method `update_team_name`. The average age of the players is also calculated and printed using the static method `calculate_average_age`."
            ]
        },
        {
            "cell_type": "markdown",
            "metadata": {},
            "source": [
                "### Difference Between using `self` and the Class Name\n",
                "\n",
                "In Python's object-oriented programming, both `self` and the class name (`FootballPlayer` in this case) can be used to access class variables or class methods, but they serve different purposes and contexts within a class definition.\n",
                "\n",
                "Using `self`:\n",
                "\n",
                "- The `self` keyword is used within an instance method to refer to the instance of the class itself.\n",
                "- You would use `self` to access instance variables and methods that are bound to a particular instance of the class.\n",
                "- `self` cannot directly change class variables in a way that affects all instances globally. Any assignment to a class variable using `self` would only affect the current instance's view of that variable, not the variable as it exists on the class itself.\n",
                "\n",
                "Using the class name (`FootballPlayer`):\n",
                "\n",
                "- When you need to modify a class variable in a way that impacts **all instances** of the class, you use the class name.\n",
                "- This approach is used to ensure that the change is reflected across all instances since class variables are shared among all instances of the class.\n",
                "- This is particularly useful in class methods (`@classmethod`) where you operate on class variables rather than instance variables. Here, `cls` is often used as a convention similar to `self`, but for class methods. It refers to the class itself, not an instance of the class.\n",
                "\n",
                "In your example, the usage of `FootballPlayer` to modify `total_age` and `total_players` is appropriate because you are modifying class variables that are meant to reflect across all instances of the class. These variables keep a cumulative total that isn't specific to any single instance but rather to the class as a whole.\n",
                "\n",
                "The class method `update_team_name` correctly uses `cls` to update the class variable `team_name`, which is the preferred way to modify class variables from within class methods.\n",
                "\n",
                "So, in summary:\n",
                "\n",
                "- Use `self` when the context is specific to an instance.\n",
                "- Use the class name (`FootballPlayer`) or `cls` within class methods when you intend to modify or interact with class variables that should reflect across all instances.\n"
            ]
        },
        {
            "cell_type": "markdown",
            "metadata": {},
            "source": [
                "# 5. Encapsulation 🛡\n",
                "\n",
                "**Encapsulation** is a fundamental concept in **object-oriented programming** that involves bundling the data (**attributes**) and **methods** that operate on the data into a single unit, or class, and **restricting access** to some of the object's components. This concept is designed to prevent external entities from directly accessing or modifying the internal state of an object.\n"
            ]
        },
        {
            "cell_type": "markdown",
            "metadata": {},
            "source": [
                "## Understanding Encapsulation\n",
                "\n",
                "Encapsulation helps to protect an object's internal state from unauthorized access and modification. It allows for greater control over how data is accessed and modified by providing methods as the sole means of interaction with an object's data.\n",
                "\n",
                "- **Public Attributes:** These are accessible from anywhere, inside or outside of the class. They are part of the class's interface with the outside world.\n",
                "- **Protected Attributes:** These are accessible within the class and its subclasses. They are often used to indicate that a particular attribute should not be accessed directly from outside the class. In Python, protected attributes are prefixed with a single underscore `_`.\n",
                "- **Private Attributes:** These are accessible only within the class and are prefixed with two underscores `__`. They are hidden from external access and are used to prevent accidental modification of data."
            ]
        },
        {
            "cell_type": "markdown",
            "metadata": {},
            "source": [
                "## Implementing Encapsulation\n",
                "\n",
                "In Python, encapsulation can be achieved using **property decorators** to create **getter** and **setter** methods for accessing and modifying private attributes. Also you can use `_` to indicate that the attribute is protected and `__` to indicate that the attribute is private.\n",
                "\n",
                "- **Getter Methods:** These methods are used to access the value of a private attribute. They are decorated with `@property` and have the same name as the attribute they are accessing.\n",
                "- **Setter Methods:** These methods are used to modify the value of a private attribute. They are decorated with `@<attribute_name>.setter` and have the same name as the attribute they are modifying."
            ]
        },
        {
            "cell_type": "markdown",
            "metadata": {},
            "source": [
                "### Example: Implementing Encapsulation in the FootballPlayer Class\n",
                "\n",
                "We'll modify the `FootballPlayer` class to encapsulate the `age` attribute using protected and private attributes.\n",
                "\n",
                "- We modify the `age` attribute to `_age` to indicate that it's a protected attribute. "
            ]
        },
        {
            "cell_type": "code",
            "execution_count": 57,
            "metadata": {},
            "outputs": [],
            "source": [
                "class FootballPlayer:\n",
                "\n",
                "    def __init__(self, name: str, position: str, age: int, goals: int = 0, salary: float = 0.0) -> None:\n",
                "        self.name = name\n",
                "        self.position = position\n",
                "        self._age = age # Protected instance variable\n",
                "        self.goals = goals\n",
                "        self.__salary = salary  # Private instance variable\n",
                "\n",
                "    def display_info(self) -> None:\n",
                "        print(f\"{self.name} is a {self.position} aged {self._age} and has scored {self.goals} goals.\")\n",
                "        self.__display_salary()\n",
                "\n",
                "    def __display_salary(self) -> None:\n",
                "        print(f\"{self.name} earns ${self.__salary} per week.\")"
            ]
        },
        {
            "cell_type": "markdown",
            "metadata": {},
            "source": [
                "- We modify the `age` attribute to `_age` to indicate that it's a protected attribute. This is a convention in Python to indicate that the attribute should not be accessed directly from outside the class.\n",
                "- We introduce a new private attribute `__salary` to store the player's weekly salary. This attribute is prefixed with two underscores to indicate that it's private and should not be accessed directly from outside the class.\n",
                "- We update the `display_info` method to include a call to the private method `__display_salary`, which prints the player's weekly salary.\n",
                "- We define a new private method `__display_salary` to print the player's weekly salary. This method is prefixed with two underscores to indicate that it's private and should not be accessed directly from outside the class."
            ]
        },
        {
            "cell_type": "code",
            "execution_count": 58,
            "metadata": {},
            "outputs": [],
            "source": [
                "# Creating a FootballPlayer object\n",
                "messi = FootballPlayer(\"Lionel Messi\", \"forward\", 34, 20, 500000)"
            ]
        },
        {
            "cell_type": "code",
            "execution_count": 59,
            "metadata": {},
            "outputs": [
                {
                    "name": "stdout",
                    "output_type": "stream",
                    "text": [
                        "Lionel Messi is 34 years old.\n"
                    ]
                }
            ],
            "source": [
                "# Accessing protected instance variable\n",
                "print(f\"{messi.name} is {messi._age} years old.\")"
            ]
        },
        {
            "cell_type": "markdown",
            "metadata": {},
            "source": [
                "- The code above works because the `_age` attribute is protected, not private. Protected attributes can be accessed from outside the class, but it's a convention to indicate that they should not be accessed directly."
            ]
        },
        {
            "cell_type": "code",
            "execution_count": 62,
            "metadata": {},
            "outputs": [
                {
                    "name": "stdout",
                    "output_type": "stream",
                    "text": [
                        "Lionel Messi earns $500000 per week.\n"
                    ]
                }
            ],
            "source": [
                "# Accessing private instance variable\n",
                "# print(f\"{messi.name} earns ${messi.__salary} per week.\") # AttributeError because __salary is private\n",
                "print(f\"{messi.name} earns ${messi._FootballPlayer__salary} per week.\")"
            ]
        },
        {
            "cell_type": "markdown",
            "metadata": {},
            "source": [
                "- We access the `__salary` private attribute for the `messi` object using the name mangling convention. This is a way to access private attributes from outside the class, but **it's not recommended** because it goes against the principle of encapsulation."
            ]
        },
        {
            "cell_type": "code",
            "execution_count": 63,
            "metadata": {},
            "outputs": [
                {
                    "name": "stdout",
                    "output_type": "stream",
                    "text": [
                        "Lionel Messi is a forward aged 34 and has scored 20 goals.\n",
                        "Lionel Messi earns $500000 per week.\n"
                    ]
                }
            ],
            "source": [
                "# Calling instance method\n",
                "messi.display_info()"
            ]
        },
        {
            "cell_type": "markdown",
            "metadata": {},
            "source": [
                "- `display_info()` method is called for the `messi` object, which prints the player's name, position, age, and weekly salary. The `__display_salary()` private method is called from within the `display_info()` method to print the player's weekly salary."
            ]
        },
        {
            "cell_type": "markdown",
            "metadata": {},
            "source": [
                "# 6. Getters and Setters\n",
                "\n",
                "**Getters** and **Setters** are essential tools in object-oriented programming (OOP) that serve as the interface to an object's attributes, especially when encapsulation and data validation are concerned. They allow for controlled access to the internal attributes of a class, making it possible to validate data before it's assigned and to control the read access.\n"
            ]
        },
        {
            "cell_type": "markdown",
            "metadata": {},
            "source": [
                "## Using Getters and Setters\n",
                "\n",
                "The primary reason for using getters and setters is to implement data encapsulation and validation. By doing so, we ensure that the internal state of an object can only be changed through a controlled interface, which can prevent the object from getting into an invalid state."
            ]
        },
        {
            "cell_type": "markdown",
            "metadata": {},
            "source": [
                "### Importance of Getters and Setters\n",
                "\n",
                "- **Data Validation:** Setters allow us to validate input before setting an attribute's value, ensuring the object remains in a valid state.\n",
                "- **Controlled Access:** Getters provide a way to control how an attribute's value is accessed, potentially transforming the value or computing it on demand.\n",
                "- **Encapsulation:** By keeping attributes private and providing public getters and setters, we hide the internal representation of the state from the outside world.\n"
            ]
        },
        {
            "cell_type": "markdown",
            "metadata": {},
            "source": [
                "### Implementing Getters and Setters in the `FootballPlayer` Class\n",
                "\n",
                "Let's extend our `FootballPlayer` class by implementing **getters** and **setters** for a private attribute `__salary` to control its access and ensure that only valid salaries are assigned.\n"
            ]
        },
        {
            "cell_type": "code",
            "execution_count": 64,
            "metadata": {},
            "outputs": [],
            "source": [
                "class FootballPlayer:\n",
                "\n",
                "    def __init__(self, name: str, position: str, age: int, goals: int = 0, salary: float = 0.0) -> None:\n",
                "        self.name = name\n",
                "        self.position = position\n",
                "        self._age = age  # Protected instance variable\n",
                "        self.goals = goals\n",
                "        self.__salary = salary  # Private instance variable\n",
                "\n",
                "    def display_info(self) -> None:\n",
                "        print(f\"{self.name} is a {self.position} aged {self._age} and has scored {self.goals} goals.\")\n",
                "        self.__display_salary()\n",
                "\n",
                "    def __display_salary(self) -> None:\n",
                "        print(f\"{self.name} earns ${self.__salary} per week.\")\n",
                "\n",
                "    def get_salary(self) -> float:\n",
                "        return self.__salary\n",
                "    \n",
                "    def set_salary(self, salary: float) -> None:\n",
                "        if salary < 0:\n",
                "            print(\"Salary cannot be negative.\")\n",
                "        else:\n",
                "            self.__salary = salary\n",
                "            print(f\"Salary updated to ${self.__salary} per week.\")"
            ]
        },
        {
            "cell_type": "markdown",
            "metadata": {},
            "source": [
                "- We define a new getter method `get_salary` to access the private attribute `__salary`. This method returns the value of `__salary` when called.\n",
                "- We define a new setter method `set_salary` to modify the private attribute `__salary`. This method takes a `salary` parameter and validates it before setting the value of `__salary`. If the salary is negative, a message is printed indicating that the salary cannot be negative. Otherwise, the value of `__salary` is updated and a message is printed indicating the updated salary."
            ]
        },
        {
            "cell_type": "code",
            "execution_count": 65,
            "metadata": {},
            "outputs": [],
            "source": [
                "# Creating a FootballPlayer object\n",
                "messi = FootballPlayer(\"Lionel Messi\", \"forward\", 34, 20, 500000)"
            ]
        },
        {
            "cell_type": "code",
            "execution_count": 66,
            "metadata": {},
            "outputs": [
                {
                    "name": "stdout",
                    "output_type": "stream",
                    "text": [
                        "Lionel Messi earns $500000 per week.\n"
                    ]
                }
            ],
            "source": [
                "messi_salary = messi.get_salary()\n",
                "print(f\"{messi.name} earns ${messi_salary} per week.\")"
            ]
        },
        {
            "cell_type": "code",
            "execution_count": 68,
            "metadata": {},
            "outputs": [
                {
                    "name": "stdout",
                    "output_type": "stream",
                    "text": [
                        "Salary updated to $600000 per week.\n",
                        "Lionel Messi earns $600000 per week.\n"
                    ]
                }
            ],
            "source": [
                "messi.set_salary(600000)\n",
                "print(f\"{messi.name} earns ${messi.get_salary()} per week.\")"
            ]
        },
        {
            "cell_type": "markdown",
            "metadata": {},
            "source": [
                "- In the code above, we create a `FootballPlayer` object `messi` with the name \"Lionel Messi\", position \"forward\", age 34, and salary 500000. We then call the `get_salary` method for the `messi` object, which returns the player's weekly salary. We print a message indicating the player's name and salary.\n",
                "\n",
                "- We then call the `set_salary` method for the `messi` object with the `salary` parameter set to 600000. This method validates the salary and updates the player's weekly salary. We then call the `get_salary` method again to confirm the updated salary.\n",
                "\n"
            ]
        },
        {
            "cell_type": "markdown",
            "metadata": {},
            "source": [
                "# 7. Inheritance (Preview) 🌱\n",
                "\n",
                "**Inheritance** is a powerful feature in object-oriented programming that allows a new class to inherit the properties and methods of an existing class. It enables the creation of a new class that is a modified version of an existing class, promoting code reuse and reducing redundancy.\n"
            ]
        },
        {
            "cell_type": "markdown",
            "metadata": {},
            "source": [
                "## Overview of Inheritance\n",
                "\n",
                "Inheritance allows a new class (subclass) to inherit the properties and methods of an existing class (superclass). The subclass can then extend or modify the behavior of the superclass, providing a way to create more specialized classes from general classes.\n",
                "\n",
                "- **Superclass (Parent Class):** The existing class from which properties and methods are inherited.\n",
                "- **Subclass (Child Class):** The new class that inherits properties and methods from the superclass and can extend or modify the behavior of the superclass."
            ]
        },
        {
            "cell_type": "markdown",
            "metadata": {},
            "source": [
                "### Concept highlights\n",
                "\n",
                "- **Code Reuse:** Inheritance promotes code reuse by allowing the subclass to inherit the properties and methods of the superclass, reducing redundancy and promoting a modular code structure.\n",
                "- **Specialization:** The subclass can extend or modify the behavior of the superclass, allowing for the creation of more specialized classes from general classes.\n",
                "- **Hierarchical Organization:** Inheritance allows for a hierarchical organization of classes, with more specialized classes derived from more general classes.\n"
            ]
        },
        {
            "cell_type": "markdown",
            "metadata": {},
            "source": [
                "# Conclusion 🌟\n",
                "\n",
                "This module has provided an introduction to the fundamentals of object-oriented programming (OOP) in Python. We've covered the core concepts of OOP, including classes, objects, attributes, and methods, and explored the benefits of OOP, such as modularity, reusability, and maintainability.\n",
                "\n",
                "In the next module, we'll explore inheritance in more detail and delve into the concept of polymorphism, which allows objects of different classes to be treated as objects of a common superclass. We'll also cover advanced OOP features and best practices for designing and implementing object-oriented systems in Python.\n",
                "\n",
                "I hope you enjoyed this module and found it helpful. If you have any questions or feedback, please feel free to reach out. Happy learning! 🌟"
            ]
        },
        {
            "cell_type": "markdown",
            "metadata": {},
            "source": [
                "# References 📚\n",
                "\n",
                "- [Python Documentation - Classes](https://docs.python.org/3/tutorial/classes.html)\n",
                "- [Real Python - Object-Oriented Programming (OOP) in Python 3](https://realpython.com/python3-object-oriented-programming/)\n",
                "- [GeeksforGeeks - Object Oriented Programming in Python](https://www.geeksforgeeks.org/object-oriented-programming-in-python-set-1-class-and-its-members/)\n",
                "- [Programiz - Python Object-Oriented Programming](https://www.programiz.com/python-programming/object-oriented-programming)\n",
                "- [W3Schools - Python Classes and Objects](https://www.w3schools.com/python/python_classes.asp)\n",
                "- [Python OOP Tutorial - Corey Schafer](https://www.youtube.com/watch?v=ZDa-Z5JzLYM)\n",
                "- [Python Object-Oriented Programming (OOP) - Full Course](https://www.youtube.com/watch?v=JeznW_7DlB0)\n"
            ]
        }
    ],
    "metadata": {
        "kernelspec": {
            "display_name": "Python 3",
            "language": "python",
            "name": "python3"
        },
        "language_info": {
            "codemirror_mode": {
                "name": "ipython",
                "version": 3
            },
            "file_extension": ".py",
            "mimetype": "text/x-python",
            "name": "python",
            "nbconvert_exporter": "python",
            "pygments_lexer": "ipython3",
            "version": "3.11.5"
        }
    },
    "nbformat": 4,
    "nbformat_minor": 4
}
